{
  "nbformat": 4,
  "nbformat_minor": 0,
  "metadata": {
    "colab": {
      "name": "Untitled2.ipynb",
      "provenance": [],
      "collapsed_sections": [],
      "include_colab_link": true
    },
    "kernelspec": {
      "name": "python3",
      "display_name": "Python 3"
    },
    "widgets": {
      "application/vnd.jupyter.widget-state+json": {
        "591257ed33324a18842e006ea277613f": {
          "model_module": "@jupyter-widgets/controls",
          "model_name": "IntSliderModel",
          "state": {
            "_view_name": "IntSliderView",
            "style": "IPY_MODEL_0b75bd70daf0419d914efceef10df404",
            "_dom_classes": [],
            "description": "",
            "step": 1,
            "_model_name": "IntSliderModel",
            "orientation": "horizontal",
            "max": 100,
            "_view_module": "@jupyter-widgets/controls",
            "_model_module_version": "1.5.0",
            "value": 0,
            "_view_count": null,
            "disabled": false,
            "_view_module_version": "1.5.0",
            "min": 0,
            "continuous_update": true,
            "readout_format": "d",
            "description_tooltip": null,
            "readout": true,
            "_model_module": "@jupyter-widgets/controls",
            "layout": "IPY_MODEL_745dac64ec134c1998f097b02f2207f1"
          }
        },
        "0b75bd70daf0419d914efceef10df404": {
          "model_module": "@jupyter-widgets/controls",
          "model_name": "SliderStyleModel",
          "state": {
            "_view_name": "StyleView",
            "handle_color": null,
            "_model_name": "SliderStyleModel",
            "description_width": "",
            "_view_module": "@jupyter-widgets/base",
            "_model_module_version": "1.5.0",
            "_view_count": null,
            "_view_module_version": "1.2.0",
            "_model_module": "@jupyter-widgets/controls"
          }
        },
        "745dac64ec134c1998f097b02f2207f1": {
          "model_module": "@jupyter-widgets/base",
          "model_name": "LayoutModel",
          "state": {
            "_view_name": "LayoutView",
            "grid_template_rows": null,
            "right": null,
            "justify_content": null,
            "_view_module": "@jupyter-widgets/base",
            "overflow": null,
            "_model_module_version": "1.2.0",
            "_view_count": null,
            "flex_flow": null,
            "width": null,
            "min_width": null,
            "border": null,
            "align_items": null,
            "bottom": null,
            "_model_module": "@jupyter-widgets/base",
            "top": null,
            "grid_column": null,
            "overflow_y": null,
            "overflow_x": null,
            "grid_auto_flow": null,
            "grid_area": null,
            "grid_template_columns": null,
            "flex": null,
            "_model_name": "LayoutModel",
            "justify_items": null,
            "grid_row": null,
            "max_height": null,
            "align_content": null,
            "visibility": null,
            "align_self": null,
            "height": null,
            "min_height": null,
            "padding": null,
            "grid_auto_rows": null,
            "grid_gap": null,
            "max_width": null,
            "order": null,
            "_view_module_version": "1.2.0",
            "grid_template_areas": null,
            "object_position": null,
            "object_fit": null,
            "grid_auto_columns": null,
            "margin": null,
            "display": null,
            "left": null
          }
        },
        "697718b7c7314ce3b5a94011fb461419": {
          "model_module": "@jupyter-widgets/controls",
          "model_name": "TextModel",
          "state": {
            "_view_name": "TextView",
            "style": "IPY_MODEL_33fd3849b42e46dfb240068aafff8341",
            "_dom_classes": [],
            "description": "",
            "_model_name": "TextModel",
            "placeholder": "​",
            "_view_module": "@jupyter-widgets/controls",
            "_model_module_version": "1.5.0",
            "value": "Vitalya",
            "_view_count": null,
            "disabled": false,
            "_view_module_version": "1.5.0",
            "continuous_update": true,
            "description_tooltip": null,
            "_model_module": "@jupyter-widgets/controls",
            "layout": "IPY_MODEL_c82845056af64786b579e64b284f80ea"
          }
        },
        "33fd3849b42e46dfb240068aafff8341": {
          "model_module": "@jupyter-widgets/controls",
          "model_name": "DescriptionStyleModel",
          "state": {
            "_view_name": "StyleView",
            "_model_name": "DescriptionStyleModel",
            "description_width": "",
            "_view_module": "@jupyter-widgets/base",
            "_model_module_version": "1.5.0",
            "_view_count": null,
            "_view_module_version": "1.2.0",
            "_model_module": "@jupyter-widgets/controls"
          }
        },
        "c82845056af64786b579e64b284f80ea": {
          "model_module": "@jupyter-widgets/base",
          "model_name": "LayoutModel",
          "state": {
            "_view_name": "LayoutView",
            "grid_template_rows": null,
            "right": null,
            "justify_content": null,
            "_view_module": "@jupyter-widgets/base",
            "overflow": null,
            "_model_module_version": "1.2.0",
            "_view_count": null,
            "flex_flow": null,
            "width": null,
            "min_width": null,
            "border": null,
            "align_items": null,
            "bottom": null,
            "_model_module": "@jupyter-widgets/base",
            "top": null,
            "grid_column": null,
            "overflow_y": null,
            "overflow_x": null,
            "grid_auto_flow": null,
            "grid_area": null,
            "grid_template_columns": null,
            "flex": null,
            "_model_name": "LayoutModel",
            "justify_items": null,
            "grid_row": null,
            "max_height": null,
            "align_content": null,
            "visibility": null,
            "align_self": null,
            "height": null,
            "min_height": null,
            "padding": null,
            "grid_auto_rows": null,
            "grid_gap": null,
            "max_width": null,
            "order": null,
            "_view_module_version": "1.2.0",
            "grid_template_areas": null,
            "object_position": null,
            "object_fit": null,
            "grid_auto_columns": null,
            "margin": null,
            "display": null,
            "left": null
          }
        },
        "3d488c53404e453c929dbb32d6cbb90b": {
          "model_module": "@jupyter-widgets/controls",
          "model_name": "IntProgressModel",
          "state": {
            "_view_name": "ProgressView",
            "style": "IPY_MODEL_72f9424a53054af4a067ea99c58cbeca",
            "_dom_classes": [],
            "description": "Loading: ",
            "_model_name": "IntProgressModel",
            "bar_style": "",
            "max": 100,
            "_view_module": "@jupyter-widgets/controls",
            "_model_module_version": "1.5.0",
            "value": 100,
            "_view_count": null,
            "_view_module_version": "1.5.0",
            "orientation": "horizontal",
            "min": 1,
            "description_tooltip": null,
            "_model_module": "@jupyter-widgets/controls",
            "layout": "IPY_MODEL_baf5638beaee4b6b87daf18105a87045"
          }
        },
        "72f9424a53054af4a067ea99c58cbeca": {
          "model_module": "@jupyter-widgets/controls",
          "model_name": "ProgressStyleModel",
          "state": {
            "_view_name": "StyleView",
            "_model_name": "ProgressStyleModel",
            "description_width": "",
            "_view_module": "@jupyter-widgets/base",
            "_model_module_version": "1.5.0",
            "_view_count": null,
            "_view_module_version": "1.2.0",
            "bar_color": null,
            "_model_module": "@jupyter-widgets/controls"
          }
        },
        "baf5638beaee4b6b87daf18105a87045": {
          "model_module": "@jupyter-widgets/base",
          "model_name": "LayoutModel",
          "state": {
            "_view_name": "LayoutView",
            "grid_template_rows": null,
            "right": null,
            "justify_content": null,
            "_view_module": "@jupyter-widgets/base",
            "overflow": null,
            "_model_module_version": "1.2.0",
            "_view_count": null,
            "flex_flow": null,
            "width": null,
            "min_width": null,
            "border": null,
            "align_items": null,
            "bottom": null,
            "_model_module": "@jupyter-widgets/base",
            "top": null,
            "grid_column": null,
            "overflow_y": null,
            "overflow_x": null,
            "grid_auto_flow": null,
            "grid_area": null,
            "grid_template_columns": null,
            "flex": null,
            "_model_name": "LayoutModel",
            "justify_items": null,
            "grid_row": null,
            "max_height": null,
            "align_content": null,
            "visibility": null,
            "align_self": null,
            "height": null,
            "min_height": null,
            "padding": null,
            "grid_auto_rows": null,
            "grid_gap": null,
            "max_width": null,
            "order": null,
            "_view_module_version": "1.2.0",
            "grid_template_areas": null,
            "object_position": null,
            "object_fit": null,
            "grid_auto_columns": null,
            "margin": null,
            "display": null,
            "left": null
          }
        },
        "1b81bdf9bfa6470fb17b20be23c52ee1": {
          "model_module": "@jupyter-widgets/controls",
          "model_name": "ButtonModel",
          "state": {
            "_view_name": "ButtonView",
            "style": "IPY_MODEL_4079c534c99643448eae489b0bcc359e",
            "_dom_classes": [],
            "description": "Кнопка!",
            "_model_name": "ButtonModel",
            "button_style": "",
            "_view_module": "@jupyter-widgets/controls",
            "_model_module_version": "1.5.0",
            "tooltip": "",
            "_view_count": null,
            "disabled": false,
            "_view_module_version": "1.5.0",
            "layout": "IPY_MODEL_752e7e84b0b44a31aa450c721c297eb8",
            "_model_module": "@jupyter-widgets/controls",
            "icon": ""
          }
        },
        "4079c534c99643448eae489b0bcc359e": {
          "model_module": "@jupyter-widgets/controls",
          "model_name": "ButtonStyleModel",
          "state": {
            "_view_name": "StyleView",
            "_model_name": "ButtonStyleModel",
            "_view_module": "@jupyter-widgets/base",
            "_model_module_version": "1.5.0",
            "_view_count": null,
            "button_color": null,
            "font_weight": "",
            "_view_module_version": "1.2.0",
            "_model_module": "@jupyter-widgets/controls"
          }
        },
        "752e7e84b0b44a31aa450c721c297eb8": {
          "model_module": "@jupyter-widgets/base",
          "model_name": "LayoutModel",
          "state": {
            "_view_name": "LayoutView",
            "grid_template_rows": null,
            "right": null,
            "justify_content": null,
            "_view_module": "@jupyter-widgets/base",
            "overflow": null,
            "_model_module_version": "1.2.0",
            "_view_count": null,
            "flex_flow": null,
            "width": null,
            "min_width": null,
            "border": null,
            "align_items": null,
            "bottom": null,
            "_model_module": "@jupyter-widgets/base",
            "top": null,
            "grid_column": null,
            "overflow_y": null,
            "overflow_x": null,
            "grid_auto_flow": null,
            "grid_area": null,
            "grid_template_columns": null,
            "flex": null,
            "_model_name": "LayoutModel",
            "justify_items": null,
            "grid_row": null,
            "max_height": null,
            "align_content": null,
            "visibility": null,
            "align_self": null,
            "height": null,
            "min_height": null,
            "padding": null,
            "grid_auto_rows": null,
            "grid_gap": null,
            "max_width": null,
            "order": null,
            "_view_module_version": "1.2.0",
            "grid_template_areas": null,
            "object_position": null,
            "object_fit": null,
            "grid_auto_columns": null,
            "margin": null,
            "display": null,
            "left": null
          }
        },
        "ba6f6d53dd864e298aa92ed7809a31f0": {
          "model_module": "@jupyter-widgets/output",
          "model_name": "OutputModel",
          "state": {
            "_view_name": "OutputView",
            "msg_id": "",
            "_dom_classes": [],
            "_model_name": "OutputModel",
            "outputs": [],
            "_view_module": "@jupyter-widgets/output",
            "_model_module_version": "1.0.0",
            "_view_count": null,
            "_view_module_version": "1.0.0",
            "layout": "IPY_MODEL_0f50052955d3480a8131f8bff1a810c5",
            "_model_module": "@jupyter-widgets/output"
          }
        },
        "0f50052955d3480a8131f8bff1a810c5": {
          "model_module": "@jupyter-widgets/base",
          "model_name": "LayoutModel",
          "state": {
            "_view_name": "LayoutView",
            "grid_template_rows": null,
            "right": null,
            "justify_content": null,
            "_view_module": "@jupyter-widgets/base",
            "overflow": null,
            "_model_module_version": "1.2.0",
            "_view_count": null,
            "flex_flow": null,
            "width": null,
            "min_width": null,
            "border": null,
            "align_items": null,
            "bottom": null,
            "_model_module": "@jupyter-widgets/base",
            "top": null,
            "grid_column": null,
            "overflow_y": null,
            "overflow_x": null,
            "grid_auto_flow": null,
            "grid_area": null,
            "grid_template_columns": null,
            "flex": null,
            "_model_name": "LayoutModel",
            "justify_items": null,
            "grid_row": null,
            "max_height": null,
            "align_content": null,
            "visibility": null,
            "align_self": null,
            "height": null,
            "min_height": null,
            "padding": null,
            "grid_auto_rows": null,
            "grid_gap": null,
            "max_width": null,
            "order": null,
            "_view_module_version": "1.2.0",
            "grid_template_areas": null,
            "object_position": null,
            "object_fit": null,
            "grid_auto_columns": null,
            "margin": null,
            "display": null,
            "left": null
          }
        },
        "c2e394fb465347cf9eb2aa0f583acab5": {
          "model_module": "@jupyter-widgets/controls",
          "model_name": "VBoxModel",
          "state": {
            "_view_name": "VBoxView",
            "_dom_classes": [
              "widget-interact"
            ],
            "_model_name": "VBoxModel",
            "_view_module": "@jupyter-widgets/controls",
            "_model_module_version": "1.5.0",
            "_view_count": null,
            "_view_module_version": "1.5.0",
            "box_style": "",
            "layout": "IPY_MODEL_0547886c1fc44b679fdb324c0a119e54",
            "_model_module": "@jupyter-widgets/controls",
            "children": [
              "IPY_MODEL_67cdd0cd67ad430cb24d06829b07fece",
              "IPY_MODEL_b9d3cd71494446f1a0feef2f5bcbaf70"
            ]
          }
        },
        "0547886c1fc44b679fdb324c0a119e54": {
          "model_module": "@jupyter-widgets/base",
          "model_name": "LayoutModel",
          "state": {
            "_view_name": "LayoutView",
            "grid_template_rows": null,
            "right": null,
            "justify_content": null,
            "_view_module": "@jupyter-widgets/base",
            "overflow": null,
            "_model_module_version": "1.2.0",
            "_view_count": null,
            "flex_flow": null,
            "width": null,
            "min_width": null,
            "border": null,
            "align_items": null,
            "bottom": null,
            "_model_module": "@jupyter-widgets/base",
            "top": null,
            "grid_column": null,
            "overflow_y": null,
            "overflow_x": null,
            "grid_auto_flow": null,
            "grid_area": null,
            "grid_template_columns": null,
            "flex": null,
            "_model_name": "LayoutModel",
            "justify_items": null,
            "grid_row": null,
            "max_height": null,
            "align_content": null,
            "visibility": null,
            "align_self": null,
            "height": null,
            "min_height": null,
            "padding": null,
            "grid_auto_rows": null,
            "grid_gap": null,
            "max_width": null,
            "order": null,
            "_view_module_version": "1.2.0",
            "grid_template_areas": null,
            "object_position": null,
            "object_fit": null,
            "grid_auto_columns": null,
            "margin": null,
            "display": null,
            "left": null
          }
        },
        "67cdd0cd67ad430cb24d06829b07fece": {
          "model_module": "@jupyter-widgets/controls",
          "model_name": "DropdownModel",
          "state": {
            "_options_labels": [
              "Виталя",
              "Алексей",
              "Владимир"
            ],
            "_view_name": "DropdownView",
            "style": "IPY_MODEL_2fa68baa3a864c56b85b8745e5d4996e",
            "_dom_classes": [],
            "description": "name",
            "_model_name": "DropdownModel",
            "index": 0,
            "_view_module": "@jupyter-widgets/controls",
            "_model_module_version": "1.5.0",
            "_view_count": null,
            "disabled": false,
            "_view_module_version": "1.5.0",
            "description_tooltip": null,
            "_model_module": "@jupyter-widgets/controls",
            "layout": "IPY_MODEL_90d735e11f894879a07d8ebd1aa52b16"
          }
        },
        "b9d3cd71494446f1a0feef2f5bcbaf70": {
          "model_module": "@jupyter-widgets/output",
          "model_name": "OutputModel",
          "state": {
            "_view_name": "OutputView",
            "msg_id": "",
            "_dom_classes": [],
            "_model_name": "OutputModel",
            "outputs": [
              {
                "output_type": "stream",
                "metadata": {
                  "tags": []
                },
                "text": "My name is Виталя\n",
                "stream": "stdout"
              }
            ],
            "_view_module": "@jupyter-widgets/output",
            "_model_module_version": "1.0.0",
            "_view_count": null,
            "_view_module_version": "1.0.0",
            "layout": "IPY_MODEL_6e2a57b250044c03b0836c6fb84e4540",
            "_model_module": "@jupyter-widgets/output"
          }
        },
        "2fa68baa3a864c56b85b8745e5d4996e": {
          "model_module": "@jupyter-widgets/controls",
          "model_name": "DescriptionStyleModel",
          "state": {
            "_view_name": "StyleView",
            "_model_name": "DescriptionStyleModel",
            "description_width": "",
            "_view_module": "@jupyter-widgets/base",
            "_model_module_version": "1.5.0",
            "_view_count": null,
            "_view_module_version": "1.2.0",
            "_model_module": "@jupyter-widgets/controls"
          }
        },
        "90d735e11f894879a07d8ebd1aa52b16": {
          "model_module": "@jupyter-widgets/base",
          "model_name": "LayoutModel",
          "state": {
            "_view_name": "LayoutView",
            "grid_template_rows": null,
            "right": null,
            "justify_content": null,
            "_view_module": "@jupyter-widgets/base",
            "overflow": null,
            "_model_module_version": "1.2.0",
            "_view_count": null,
            "flex_flow": null,
            "width": null,
            "min_width": null,
            "border": null,
            "align_items": null,
            "bottom": null,
            "_model_module": "@jupyter-widgets/base",
            "top": null,
            "grid_column": null,
            "overflow_y": null,
            "overflow_x": null,
            "grid_auto_flow": null,
            "grid_area": null,
            "grid_template_columns": null,
            "flex": null,
            "_model_name": "LayoutModel",
            "justify_items": null,
            "grid_row": null,
            "max_height": null,
            "align_content": null,
            "visibility": null,
            "align_self": null,
            "height": null,
            "min_height": null,
            "padding": null,
            "grid_auto_rows": null,
            "grid_gap": null,
            "max_width": null,
            "order": null,
            "_view_module_version": "1.2.0",
            "grid_template_areas": null,
            "object_position": null,
            "object_fit": null,
            "grid_auto_columns": null,
            "margin": null,
            "display": null,
            "left": null
          }
        },
        "6e2a57b250044c03b0836c6fb84e4540": {
          "model_module": "@jupyter-widgets/base",
          "model_name": "LayoutModel",
          "state": {
            "_view_name": "LayoutView",
            "grid_template_rows": null,
            "right": null,
            "justify_content": null,
            "_view_module": "@jupyter-widgets/base",
            "overflow": null,
            "_model_module_version": "1.2.0",
            "_view_count": null,
            "flex_flow": null,
            "width": null,
            "min_width": null,
            "border": null,
            "align_items": null,
            "bottom": null,
            "_model_module": "@jupyter-widgets/base",
            "top": null,
            "grid_column": null,
            "overflow_y": null,
            "overflow_x": null,
            "grid_auto_flow": null,
            "grid_area": null,
            "grid_template_columns": null,
            "flex": null,
            "_model_name": "LayoutModel",
            "justify_items": null,
            "grid_row": null,
            "max_height": null,
            "align_content": null,
            "visibility": null,
            "align_self": null,
            "height": null,
            "min_height": null,
            "padding": null,
            "grid_auto_rows": null,
            "grid_gap": null,
            "max_width": null,
            "order": null,
            "_view_module_version": "1.2.0",
            "grid_template_areas": null,
            "object_position": null,
            "object_fit": null,
            "grid_auto_columns": null,
            "margin": null,
            "display": null,
            "left": null
          }
        },
        "20e0ed5bda5742c98a96267a6a576bf1": {
          "model_module": "@jupyter-widgets/controls",
          "model_name": "VBoxModel",
          "state": {
            "_view_name": "VBoxView",
            "_dom_classes": [
              "widget-interact"
            ],
            "_model_name": "VBoxModel",
            "_view_module": "@jupyter-widgets/controls",
            "_model_module_version": "1.5.0",
            "_view_count": null,
            "_view_module_version": "1.5.0",
            "box_style": "",
            "layout": "IPY_MODEL_9616a7d023344dc483a3b2fab89cf841",
            "_model_module": "@jupyter-widgets/controls",
            "children": [
              "IPY_MODEL_167f93fb49434a99b4f7008a67257636",
              "IPY_MODEL_94cd69a52fac4fed90c3c45e3770fbcb",
              "IPY_MODEL_3d571d28185d4bf389df2d7809fcb9ff",
              "IPY_MODEL_6dbe9f3a344a4b5696f878867cfb405a"
            ]
          }
        },
        "9616a7d023344dc483a3b2fab89cf841": {
          "model_module": "@jupyter-widgets/base",
          "model_name": "LayoutModel",
          "state": {
            "_view_name": "LayoutView",
            "grid_template_rows": null,
            "right": null,
            "justify_content": null,
            "_view_module": "@jupyter-widgets/base",
            "overflow": null,
            "_model_module_version": "1.2.0",
            "_view_count": null,
            "flex_flow": null,
            "width": null,
            "min_width": null,
            "border": null,
            "align_items": null,
            "bottom": null,
            "_model_module": "@jupyter-widgets/base",
            "top": null,
            "grid_column": null,
            "overflow_y": null,
            "overflow_x": null,
            "grid_auto_flow": null,
            "grid_area": null,
            "grid_template_columns": null,
            "flex": null,
            "_model_name": "LayoutModel",
            "justify_items": null,
            "grid_row": null,
            "max_height": null,
            "align_content": null,
            "visibility": null,
            "align_self": null,
            "height": null,
            "min_height": null,
            "padding": null,
            "grid_auto_rows": null,
            "grid_gap": null,
            "max_width": null,
            "order": null,
            "_view_module_version": "1.2.0",
            "grid_template_areas": null,
            "object_position": null,
            "object_fit": null,
            "grid_auto_columns": null,
            "margin": null,
            "display": null,
            "left": null
          }
        },
        "167f93fb49434a99b4f7008a67257636": {
          "model_module": "@jupyter-widgets/controls",
          "model_name": "IntSliderModel",
          "state": {
            "_view_name": "IntSliderView",
            "style": "IPY_MODEL_a2eb0b64f84440fbaf14702b4f9fadda",
            "_dom_classes": [],
            "description": "w",
            "step": 1,
            "_model_name": "IntSliderModel",
            "orientation": "horizontal",
            "max": 10,
            "_view_module": "@jupyter-widgets/controls",
            "_model_module_version": "1.5.0",
            "value": 5,
            "_view_count": null,
            "disabled": false,
            "_view_module_version": "1.5.0",
            "min": 0,
            "continuous_update": true,
            "readout_format": "d",
            "description_tooltip": null,
            "readout": true,
            "_model_module": "@jupyter-widgets/controls",
            "layout": "IPY_MODEL_690c6caf96d34eb8b50ad366a36082f6"
          }
        },
        "94cd69a52fac4fed90c3c45e3770fbcb": {
          "model_module": "@jupyter-widgets/controls",
          "model_name": "FloatSliderModel",
          "state": {
            "_view_name": "FloatSliderView",
            "style": "IPY_MODEL_129f59b8fd334632956fdf079064e425",
            "_dom_classes": [],
            "description": "amp",
            "step": 0.1,
            "_model_name": "FloatSliderModel",
            "orientation": "horizontal",
            "max": 4,
            "_view_module": "@jupyter-widgets/controls",
            "_model_module_version": "1.5.0",
            "value": 2,
            "_view_count": null,
            "disabled": false,
            "_view_module_version": "1.5.0",
            "min": 0,
            "continuous_update": true,
            "readout_format": ".2f",
            "description_tooltip": null,
            "readout": true,
            "_model_module": "@jupyter-widgets/controls",
            "layout": "IPY_MODEL_2144aac06cac49efa33620a1d24e8aad"
          }
        },
        "3d571d28185d4bf389df2d7809fcb9ff": {
          "model_module": "@jupyter-widgets/controls",
          "model_name": "FloatSliderModel",
          "state": {
            "_view_name": "FloatSliderView",
            "style": "IPY_MODEL_b45ce99086d943c49036b074221cd90e",
            "_dom_classes": [],
            "description": "phi",
            "step": 0.01,
            "_model_name": "FloatSliderModel",
            "orientation": "horizontal",
            "max": 6.293185307179586,
            "_view_module": "@jupyter-widgets/controls",
            "_model_module_version": "1.5.0",
            "value": 3.14,
            "_view_count": null,
            "disabled": false,
            "_view_module_version": "1.5.0",
            "min": 0,
            "continuous_update": true,
            "readout_format": ".2f",
            "description_tooltip": null,
            "readout": true,
            "_model_module": "@jupyter-widgets/controls",
            "layout": "IPY_MODEL_0434a7e0242c430898fb7054f17bca4b"
          }
        },
        "6dbe9f3a344a4b5696f878867cfb405a": {
          "model_module": "@jupyter-widgets/output",
          "model_name": "OutputModel",
          "state": {
            "_view_name": "OutputView",
            "msg_id": "",
            "_dom_classes": [],
            "_model_name": "OutputModel",
            "outputs": [
              {
                "output_type": "stream",
                "metadata": {
                  "tags": []
                },
                "text": "5 2.0 3.14\n",
                "stream": "stdout"
              },
              {
                "output_type": "display_data",
                "metadata": {
                  "tags": [],
                  "needs_background": "light"
                },
                "image/png": "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\n",
                "text/plain": "<Figure size 432x288 with 1 Axes>"
              }
            ],
            "_view_module": "@jupyter-widgets/output",
            "_model_module_version": "1.0.0",
            "_view_count": null,
            "_view_module_version": "1.0.0",
            "layout": "IPY_MODEL_3afe79d540374542b0f27f0c8a6e06c3",
            "_model_module": "@jupyter-widgets/output"
          }
        },
        "a2eb0b64f84440fbaf14702b4f9fadda": {
          "model_module": "@jupyter-widgets/controls",
          "model_name": "SliderStyleModel",
          "state": {
            "_view_name": "StyleView",
            "handle_color": null,
            "_model_name": "SliderStyleModel",
            "description_width": "",
            "_view_module": "@jupyter-widgets/base",
            "_model_module_version": "1.5.0",
            "_view_count": null,
            "_view_module_version": "1.2.0",
            "_model_module": "@jupyter-widgets/controls"
          }
        },
        "690c6caf96d34eb8b50ad366a36082f6": {
          "model_module": "@jupyter-widgets/base",
          "model_name": "LayoutModel",
          "state": {
            "_view_name": "LayoutView",
            "grid_template_rows": null,
            "right": null,
            "justify_content": null,
            "_view_module": "@jupyter-widgets/base",
            "overflow": null,
            "_model_module_version": "1.2.0",
            "_view_count": null,
            "flex_flow": null,
            "width": null,
            "min_width": null,
            "border": null,
            "align_items": null,
            "bottom": null,
            "_model_module": "@jupyter-widgets/base",
            "top": null,
            "grid_column": null,
            "overflow_y": null,
            "overflow_x": null,
            "grid_auto_flow": null,
            "grid_area": null,
            "grid_template_columns": null,
            "flex": null,
            "_model_name": "LayoutModel",
            "justify_items": null,
            "grid_row": null,
            "max_height": null,
            "align_content": null,
            "visibility": null,
            "align_self": null,
            "height": null,
            "min_height": null,
            "padding": null,
            "grid_auto_rows": null,
            "grid_gap": null,
            "max_width": null,
            "order": null,
            "_view_module_version": "1.2.0",
            "grid_template_areas": null,
            "object_position": null,
            "object_fit": null,
            "grid_auto_columns": null,
            "margin": null,
            "display": null,
            "left": null
          }
        },
        "129f59b8fd334632956fdf079064e425": {
          "model_module": "@jupyter-widgets/controls",
          "model_name": "SliderStyleModel",
          "state": {
            "_view_name": "StyleView",
            "handle_color": null,
            "_model_name": "SliderStyleModel",
            "description_width": "",
            "_view_module": "@jupyter-widgets/base",
            "_model_module_version": "1.5.0",
            "_view_count": null,
            "_view_module_version": "1.2.0",
            "_model_module": "@jupyter-widgets/controls"
          }
        },
        "2144aac06cac49efa33620a1d24e8aad": {
          "model_module": "@jupyter-widgets/base",
          "model_name": "LayoutModel",
          "state": {
            "_view_name": "LayoutView",
            "grid_template_rows": null,
            "right": null,
            "justify_content": null,
            "_view_module": "@jupyter-widgets/base",
            "overflow": null,
            "_model_module_version": "1.2.0",
            "_view_count": null,
            "flex_flow": null,
            "width": null,
            "min_width": null,
            "border": null,
            "align_items": null,
            "bottom": null,
            "_model_module": "@jupyter-widgets/base",
            "top": null,
            "grid_column": null,
            "overflow_y": null,
            "overflow_x": null,
            "grid_auto_flow": null,
            "grid_area": null,
            "grid_template_columns": null,
            "flex": null,
            "_model_name": "LayoutModel",
            "justify_items": null,
            "grid_row": null,
            "max_height": null,
            "align_content": null,
            "visibility": null,
            "align_self": null,
            "height": null,
            "min_height": null,
            "padding": null,
            "grid_auto_rows": null,
            "grid_gap": null,
            "max_width": null,
            "order": null,
            "_view_module_version": "1.2.0",
            "grid_template_areas": null,
            "object_position": null,
            "object_fit": null,
            "grid_auto_columns": null,
            "margin": null,
            "display": null,
            "left": null
          }
        },
        "b45ce99086d943c49036b074221cd90e": {
          "model_module": "@jupyter-widgets/controls",
          "model_name": "SliderStyleModel",
          "state": {
            "_view_name": "StyleView",
            "handle_color": null,
            "_model_name": "SliderStyleModel",
            "description_width": "",
            "_view_module": "@jupyter-widgets/base",
            "_model_module_version": "1.5.0",
            "_view_count": null,
            "_view_module_version": "1.2.0",
            "_model_module": "@jupyter-widgets/controls"
          }
        },
        "0434a7e0242c430898fb7054f17bca4b": {
          "model_module": "@jupyter-widgets/base",
          "model_name": "LayoutModel",
          "state": {
            "_view_name": "LayoutView",
            "grid_template_rows": null,
            "right": null,
            "justify_content": null,
            "_view_module": "@jupyter-widgets/base",
            "overflow": null,
            "_model_module_version": "1.2.0",
            "_view_count": null,
            "flex_flow": null,
            "width": null,
            "min_width": null,
            "border": null,
            "align_items": null,
            "bottom": null,
            "_model_module": "@jupyter-widgets/base",
            "top": null,
            "grid_column": null,
            "overflow_y": null,
            "overflow_x": null,
            "grid_auto_flow": null,
            "grid_area": null,
            "grid_template_columns": null,
            "flex": null,
            "_model_name": "LayoutModel",
            "justify_items": null,
            "grid_row": null,
            "max_height": null,
            "align_content": null,
            "visibility": null,
            "align_self": null,
            "height": null,
            "min_height": null,
            "padding": null,
            "grid_auto_rows": null,
            "grid_gap": null,
            "max_width": null,
            "order": null,
            "_view_module_version": "1.2.0",
            "grid_template_areas": null,
            "object_position": null,
            "object_fit": null,
            "grid_auto_columns": null,
            "margin": null,
            "display": null,
            "left": null
          }
        },
        "3afe79d540374542b0f27f0c8a6e06c3": {
          "model_module": "@jupyter-widgets/base",
          "model_name": "LayoutModel",
          "state": {
            "_view_name": "LayoutView",
            "grid_template_rows": null,
            "right": null,
            "justify_content": null,
            "_view_module": "@jupyter-widgets/base",
            "overflow": null,
            "_model_module_version": "1.2.0",
            "_view_count": null,
            "flex_flow": null,
            "width": null,
            "min_width": null,
            "border": null,
            "align_items": null,
            "bottom": null,
            "_model_module": "@jupyter-widgets/base",
            "top": null,
            "grid_column": null,
            "overflow_y": null,
            "overflow_x": null,
            "grid_auto_flow": null,
            "grid_area": null,
            "grid_template_columns": null,
            "flex": null,
            "_model_name": "LayoutModel",
            "justify_items": null,
            "grid_row": null,
            "max_height": null,
            "align_content": null,
            "visibility": null,
            "align_self": null,
            "height": null,
            "min_height": null,
            "padding": null,
            "grid_auto_rows": null,
            "grid_gap": null,
            "max_width": null,
            "order": null,
            "_view_module_version": "1.2.0",
            "grid_template_areas": null,
            "object_position": null,
            "object_fit": null,
            "grid_auto_columns": null,
            "margin": null,
            "display": null,
            "left": null
          }
        },
        "fe127b7d9d9c450894a1d4d47fd4b565": {
          "model_module": "@jupyter-widgets/controls",
          "model_name": "ButtonModel",
          "state": {
            "_view_name": "ButtonView",
            "style": "IPY_MODEL_800a848b56a34707b836bac2457e34e6",
            "_dom_classes": [],
            "description": "INFO",
            "_model_name": "ButtonModel",
            "button_style": "",
            "_view_module": "@jupyter-widgets/controls",
            "_model_module_version": "1.5.0",
            "tooltip": "",
            "_view_count": null,
            "disabled": false,
            "_view_module_version": "1.5.0",
            "layout": "IPY_MODEL_85a0350cea004ecdaaab4b4f737f3e01",
            "_model_module": "@jupyter-widgets/controls",
            "icon": ""
          }
        },
        "800a848b56a34707b836bac2457e34e6": {
          "model_module": "@jupyter-widgets/controls",
          "model_name": "ButtonStyleModel",
          "state": {
            "_view_name": "StyleView",
            "_model_name": "ButtonStyleModel",
            "_view_module": "@jupyter-widgets/base",
            "_model_module_version": "1.5.0",
            "_view_count": null,
            "button_color": null,
            "font_weight": "",
            "_view_module_version": "1.2.0",
            "_model_module": "@jupyter-widgets/controls"
          }
        },
        "85a0350cea004ecdaaab4b4f737f3e01": {
          "model_module": "@jupyter-widgets/base",
          "model_name": "LayoutModel",
          "state": {
            "_view_name": "LayoutView",
            "grid_template_rows": null,
            "right": null,
            "justify_content": null,
            "_view_module": "@jupyter-widgets/base",
            "overflow": null,
            "_model_module_version": "1.2.0",
            "_view_count": null,
            "flex_flow": null,
            "width": null,
            "min_width": null,
            "border": null,
            "align_items": null,
            "bottom": null,
            "_model_module": "@jupyter-widgets/base",
            "top": null,
            "grid_column": null,
            "overflow_y": null,
            "overflow_x": null,
            "grid_auto_flow": null,
            "grid_area": null,
            "grid_template_columns": null,
            "flex": null,
            "_model_name": "LayoutModel",
            "justify_items": null,
            "grid_row": null,
            "max_height": null,
            "align_content": null,
            "visibility": null,
            "align_self": null,
            "height": null,
            "min_height": null,
            "padding": null,
            "grid_auto_rows": null,
            "grid_gap": null,
            "max_width": null,
            "order": null,
            "_view_module_version": "1.2.0",
            "grid_template_areas": null,
            "object_position": null,
            "object_fit": null,
            "grid_auto_columns": null,
            "margin": null,
            "display": null,
            "left": null
          }
        },
        "3d7a5ac0e50145e5b65ddb77bc03b075": {
          "model_module": "@jupyter-widgets/output",
          "model_name": "OutputModel",
          "state": {
            "_view_name": "OutputView",
            "msg_id": "",
            "_dom_classes": [],
            "_model_name": "OutputModel",
            "outputs": [],
            "_view_module": "@jupyter-widgets/output",
            "_model_module_version": "1.0.0",
            "_view_count": null,
            "_view_module_version": "1.0.0",
            "layout": "IPY_MODEL_746064d564b44b639a948cd8da416256",
            "_model_module": "@jupyter-widgets/output"
          }
        },
        "746064d564b44b639a948cd8da416256": {
          "model_module": "@jupyter-widgets/base",
          "model_name": "LayoutModel",
          "state": {
            "_view_name": "LayoutView",
            "grid_template_rows": null,
            "right": null,
            "justify_content": null,
            "_view_module": "@jupyter-widgets/base",
            "overflow": null,
            "_model_module_version": "1.2.0",
            "_view_count": null,
            "flex_flow": null,
            "width": null,
            "min_width": null,
            "border": null,
            "align_items": null,
            "bottom": null,
            "_model_module": "@jupyter-widgets/base",
            "top": null,
            "grid_column": null,
            "overflow_y": null,
            "overflow_x": null,
            "grid_auto_flow": null,
            "grid_area": null,
            "grid_template_columns": null,
            "flex": null,
            "_model_name": "LayoutModel",
            "justify_items": null,
            "grid_row": null,
            "max_height": null,
            "align_content": null,
            "visibility": null,
            "align_self": null,
            "height": null,
            "min_height": null,
            "padding": null,
            "grid_auto_rows": null,
            "grid_gap": null,
            "max_width": null,
            "order": null,
            "_view_module_version": "1.2.0",
            "grid_template_areas": null,
            "object_position": null,
            "object_fit": null,
            "grid_auto_columns": null,
            "margin": null,
            "display": null,
            "left": null
          }
        },
        "dd6d2eba2dad464089c8a9d277a7d544": {
          "model_module": "@jupyter-widgets/controls",
          "model_name": "ButtonModel",
          "state": {
            "_view_name": "ButtonView",
            "style": "IPY_MODEL_85219384f2ea442dacf2f965f59b07ae",
            "_dom_classes": [],
            "description": "DESCRIBE",
            "_model_name": "ButtonModel",
            "button_style": "",
            "_view_module": "@jupyter-widgets/controls",
            "_model_module_version": "1.5.0",
            "tooltip": "",
            "_view_count": null,
            "disabled": false,
            "_view_module_version": "1.5.0",
            "layout": "IPY_MODEL_12c49c6c2fbe4d8fb375c729d902ed3b",
            "_model_module": "@jupyter-widgets/controls",
            "icon": ""
          }
        },
        "85219384f2ea442dacf2f965f59b07ae": {
          "model_module": "@jupyter-widgets/controls",
          "model_name": "ButtonStyleModel",
          "state": {
            "_view_name": "StyleView",
            "_model_name": "ButtonStyleModel",
            "_view_module": "@jupyter-widgets/base",
            "_model_module_version": "1.5.0",
            "_view_count": null,
            "button_color": null,
            "font_weight": "",
            "_view_module_version": "1.2.0",
            "_model_module": "@jupyter-widgets/controls"
          }
        },
        "12c49c6c2fbe4d8fb375c729d902ed3b": {
          "model_module": "@jupyter-widgets/base",
          "model_name": "LayoutModel",
          "state": {
            "_view_name": "LayoutView",
            "grid_template_rows": null,
            "right": null,
            "justify_content": null,
            "_view_module": "@jupyter-widgets/base",
            "overflow": null,
            "_model_module_version": "1.2.0",
            "_view_count": null,
            "flex_flow": null,
            "width": null,
            "min_width": null,
            "border": null,
            "align_items": null,
            "bottom": null,
            "_model_module": "@jupyter-widgets/base",
            "top": null,
            "grid_column": null,
            "overflow_y": null,
            "overflow_x": null,
            "grid_auto_flow": null,
            "grid_area": null,
            "grid_template_columns": null,
            "flex": null,
            "_model_name": "LayoutModel",
            "justify_items": null,
            "grid_row": null,
            "max_height": null,
            "align_content": null,
            "visibility": null,
            "align_self": null,
            "height": null,
            "min_height": null,
            "padding": null,
            "grid_auto_rows": null,
            "grid_gap": null,
            "max_width": null,
            "order": null,
            "_view_module_version": "1.2.0",
            "grid_template_areas": null,
            "object_position": null,
            "object_fit": null,
            "grid_auto_columns": null,
            "margin": null,
            "display": null,
            "left": null
          }
        },
        "fa2c92a3abcc42daaa553e377d4c723a": {
          "model_module": "@jupyter-widgets/output",
          "model_name": "OutputModel",
          "state": {
            "_view_name": "OutputView",
            "msg_id": "",
            "_dom_classes": [],
            "_model_name": "OutputModel",
            "outputs": [],
            "_view_module": "@jupyter-widgets/output",
            "_model_module_version": "1.0.0",
            "_view_count": null,
            "_view_module_version": "1.0.0",
            "layout": "IPY_MODEL_4c869ac5a95c403f822bb74513d62897",
            "_model_module": "@jupyter-widgets/output"
          }
        },
        "4c869ac5a95c403f822bb74513d62897": {
          "model_module": "@jupyter-widgets/base",
          "model_name": "LayoutModel",
          "state": {
            "_view_name": "LayoutView",
            "grid_template_rows": null,
            "right": null,
            "justify_content": null,
            "_view_module": "@jupyter-widgets/base",
            "overflow": null,
            "_model_module_version": "1.2.0",
            "_view_count": null,
            "flex_flow": null,
            "width": null,
            "min_width": null,
            "border": null,
            "align_items": null,
            "bottom": null,
            "_model_module": "@jupyter-widgets/base",
            "top": null,
            "grid_column": null,
            "overflow_y": null,
            "overflow_x": null,
            "grid_auto_flow": null,
            "grid_area": null,
            "grid_template_columns": null,
            "flex": null,
            "_model_name": "LayoutModel",
            "justify_items": null,
            "grid_row": null,
            "max_height": null,
            "align_content": null,
            "visibility": null,
            "align_self": null,
            "height": null,
            "min_height": null,
            "padding": null,
            "grid_auto_rows": null,
            "grid_gap": null,
            "max_width": null,
            "order": null,
            "_view_module_version": "1.2.0",
            "grid_template_areas": null,
            "object_position": null,
            "object_fit": null,
            "grid_auto_columns": null,
            "margin": null,
            "display": null,
            "left": null
          }
        }
      }
    }
  },
  "cells": [
    {
      "cell_type": "markdown",
      "metadata": {
        "id": "view-in-github",
        "colab_type": "text"
      },
      "source": [
        "<a href=\"https://colab.research.google.com/github/Zapevalove/Hello-world/blob/main/Untitled2.ipynb\" target=\"_parent\"><img src=\"https://colab.research.google.com/assets/colab-badge.svg\" alt=\"Open In Colab\"/></a>"
      ]
    },
    {
      "cell_type": "markdown",
      "metadata": {
        "id": "PUxEoEQEQGKT"
      },
      "source": [
        "#**Basic Widgets**"
      ]
    },
    {
      "cell_type": "code",
      "metadata": {
        "id": "hQCCCd6QP96z"
      },
      "source": [
        "import ipywidgets as wd"
      ],
      "execution_count": 1,
      "outputs": []
    },
    {
      "cell_type": "code",
      "metadata": {
        "id": "H8G-uaoNQP0e"
      },
      "source": [
        "from IPython.display import  display"
      ],
      "execution_count": 2,
      "outputs": []
    },
    {
      "cell_type": "code",
      "metadata": {
        "id": "AnkNIRJ6QQ-0"
      },
      "source": [
        "sl1 = wd.IntSlider()"
      ],
      "execution_count": 3,
      "outputs": []
    },
    {
      "cell_type": "code",
      "metadata": {
        "colab": {
          "base_uri": "https://localhost:8080/",
          "height": 49,
          "referenced_widgets": [
            "591257ed33324a18842e006ea277613f",
            "0b75bd70daf0419d914efceef10df404",
            "745dac64ec134c1998f097b02f2207f1"
          ]
        },
        "id": "6k1aeFhIQSDg",
        "outputId": "23686b21-d122-47ec-83fa-36e79c3543f8"
      },
      "source": [
        "sl1"
      ],
      "execution_count": 4,
      "outputs": [
        {
          "output_type": "display_data",
          "data": {
            "application/vnd.jupyter.widget-view+json": {
              "model_id": "591257ed33324a18842e006ea277613f",
              "version_minor": 0,
              "version_major": 2
            },
            "text/plain": [
              "IntSlider(value=0)"
            ]
          },
          "metadata": {
            "tags": []
          }
        }
      ]
    },
    {
      "cell_type": "code",
      "metadata": {
        "id": "uqaQ7lNyQTO6"
      },
      "source": [
        "name = wd.Text(value='Vitalya')"
      ],
      "execution_count": 5,
      "outputs": []
    },
    {
      "cell_type": "code",
      "metadata": {
        "colab": {
          "base_uri": "https://localhost:8080/",
          "height": 49,
          "referenced_widgets": [
            "697718b7c7314ce3b5a94011fb461419",
            "33fd3849b42e46dfb240068aafff8341",
            "c82845056af64786b579e64b284f80ea"
          ]
        },
        "id": "YoydPijMQXA_",
        "outputId": "05edc1e5-d438-4fc9-d71e-0db28339c7d9"
      },
      "source": [
        "display(name)"
      ],
      "execution_count": 6,
      "outputs": [
        {
          "output_type": "display_data",
          "data": {
            "application/vnd.jupyter.widget-view+json": {
              "model_id": "697718b7c7314ce3b5a94011fb461419",
              "version_minor": 0,
              "version_major": 2
            },
            "text/plain": [
              "Text(value='Vitalya')"
            ]
          },
          "metadata": {
            "tags": []
          }
        }
      ]
    },
    {
      "cell_type": "code",
      "metadata": {
        "id": "UBSuhUgGQZuu"
      },
      "source": [
        "import time"
      ],
      "execution_count": 7,
      "outputs": []
    },
    {
      "cell_type": "code",
      "metadata": {
        "id": "9g4CmVLgQbU5",
        "colab": {
          "base_uri": "https://localhost:8080/",
          "height": 49,
          "referenced_widgets": [
            "3d488c53404e453c929dbb32d6cbb90b",
            "72f9424a53054af4a067ea99c58cbeca",
            "baf5638beaee4b6b87daf18105a87045"
          ]
        },
        "outputId": "faf92ba5-4806-4afe-8a4f-84152849d0e3"
      },
      "source": [
        "pb1 = wd.IntProgress(value=0,\n",
        "                          min=1,\n",
        "                          max=100,\n",
        "                          description='Loading: ',\n",
        "                          bar_style='',\n",
        "                          orientation='horizontal')\n",
        "display(pb1)\n",
        "\n",
        "for i in range(100):\n",
        "    pb1.value = i+1\n",
        "    time.sleep(0.2)"
      ],
      "execution_count": 8,
      "outputs": [
        {
          "output_type": "display_data",
          "data": {
            "application/vnd.jupyter.widget-view+json": {
              "model_id": "3d488c53404e453c929dbb32d6cbb90b",
              "version_minor": 0,
              "version_major": 2
            },
            "text/plain": [
              "IntProgress(value=1, description='Loading: ', min=1)"
            ]
          },
          "metadata": {
            "tags": []
          }
        }
      ]
    },
    {
      "cell_type": "markdown",
      "metadata": {
        "id": "QW7L26ayQo92"
      },
      "source": [
        "#**Кнопка**"
      ]
    },
    {
      "cell_type": "code",
      "metadata": {
        "colab": {
          "base_uri": "https://localhost:8080/",
          "height": 49,
          "referenced_widgets": [
            "1b81bdf9bfa6470fb17b20be23c52ee1",
            "4079c534c99643448eae489b0bcc359e",
            "752e7e84b0b44a31aa450c721c297eb8",
            "ba6f6d53dd864e298aa92ed7809a31f0",
            "0f50052955d3480a8131f8bff1a810c5"
          ]
        },
        "id": "BAlHGoivQcPh",
        "outputId": "03f56e3a-0ce4-470c-e6cd-677ece9c3c00"
      },
      "source": [
        "button = wd.Button(description=\"Кнопка!\")\n",
        "output = wd.Output()\n",
        "\n",
        "def  on_my_button_click(b):\n",
        "    with output:\n",
        "        print(\"Button clicked (msq1).\")\n",
        "        print(\"Button clicked (msq2).\")\n",
        "\n",
        "button.on_click(on_my_button_click)\n",
        "display(button, output)"
      ],
      "execution_count": null,
      "outputs": [
        {
          "output_type": "display_data",
          "data": {
            "application/vnd.jupyter.widget-view+json": {
              "model_id": "1b81bdf9bfa6470fb17b20be23c52ee1",
              "version_minor": 0,
              "version_major": 2
            },
            "text/plain": [
              "Button(description='Кнопка!', style=ButtonStyle())"
            ]
          },
          "metadata": {
            "tags": []
          }
        },
        {
          "output_type": "display_data",
          "data": {
            "application/vnd.jupyter.widget-view+json": {
              "model_id": "ba6f6d53dd864e298aa92ed7809a31f0",
              "version_minor": 0,
              "version_major": 2
            },
            "text/plain": [
              "Output()"
            ]
          },
          "metadata": {
            "tags": []
          }
        }
      ]
    },
    {
      "cell_type": "markdown",
      "metadata": {
        "id": "mr7GmNZhRBE2"
      },
      "source": [
        "#**Interact**"
      ]
    },
    {
      "cell_type": "code",
      "metadata": {
        "colab": {
          "base_uri": "https://localhost:8080/",
          "height": 83,
          "referenced_widgets": [
            "c2e394fb465347cf9eb2aa0f583acab5",
            "0547886c1fc44b679fdb324c0a119e54",
            "67cdd0cd67ad430cb24d06829b07fece",
            "b9d3cd71494446f1a0feef2f5bcbaf70",
            "2fa68baa3a864c56b85b8745e5d4996e",
            "90d735e11f894879a07d8ebd1aa52b16",
            "6e2a57b250044c03b0836c6fb84e4540"
          ]
        },
        "id": "p3TdseybQxp1",
        "outputId": "b1ca8c2b-4d40-484f-b546-bd4bb536a10d"
      },
      "source": [
        "def say_my_name(name):\n",
        "    print(f'My name is',  (name))\n",
        "\n",
        "wd.interact(say_my_name, name=[\"Виталя\", \"Алексей\", \"Владимир\"])"
      ],
      "execution_count": null,
      "outputs": [
        {
          "output_type": "display_data",
          "data": {
            "application/vnd.jupyter.widget-view+json": {
              "model_id": "c2e394fb465347cf9eb2aa0f583acab5",
              "version_minor": 0,
              "version_major": 2
            },
            "text/plain": [
              "interactive(children=(Dropdown(description='name', options=('Виталя', 'Алексей', 'Владимир'), value='Виталя'),…"
            ]
          },
          "metadata": {
            "tags": []
          }
        },
        {
          "output_type": "execute_result",
          "data": {
            "text/plain": [
              "<function __main__.say_my_name>"
            ]
          },
          "metadata": {
            "tags": []
          },
          "execution_count": 10
        }
      ]
    },
    {
      "cell_type": "markdown",
      "metadata": {
        "id": "RRC-ufX7RIe-"
      },
      "source": [
        "#**Sin**"
      ]
    },
    {
      "cell_type": "code",
      "metadata": {
        "colab": {
          "base_uri": "https://localhost:8080/"
        },
        "id": "JwT4BmeNQ-Mi",
        "outputId": "10ecb15f-83c0-4f3b-f596-d447a6a6a096"
      },
      "source": [
        "import numpy as np\n",
        "import matplotlib.pyplot as plt\n",
        "%matplotlib -l\n",
        "%matplotlib inline"
      ],
      "execution_count": null,
      "outputs": [
        {
          "output_type": "stream",
          "text": [
            "Available matplotlib backends: ['tk', 'gtk', 'gtk3', 'wx', 'qt4', 'qt5', 'qt', 'osx', 'nbagg', 'notebook', 'agg', 'inline', 'ipympl', 'widget']\n"
          ],
          "name": "stdout"
        }
      ]
    },
    {
      "cell_type": "code",
      "metadata": {
        "id": "6gMK1yU7ROL-"
      },
      "source": [
        "x = np.linspace(0, 2 * np.pi, 100)"
      ],
      "execution_count": null,
      "outputs": []
    },
    {
      "cell_type": "code",
      "metadata": {
        "colab": {
          "base_uri": "https://localhost:8080/",
          "height": 395,
          "referenced_widgets": [
            "20e0ed5bda5742c98a96267a6a576bf1",
            "9616a7d023344dc483a3b2fab89cf841",
            "167f93fb49434a99b4f7008a67257636",
            "94cd69a52fac4fed90c3c45e3770fbcb",
            "3d571d28185d4bf389df2d7809fcb9ff",
            "6dbe9f3a344a4b5696f878867cfb405a",
            "a2eb0b64f84440fbaf14702b4f9fadda",
            "690c6caf96d34eb8b50ad366a36082f6",
            "129f59b8fd334632956fdf079064e425",
            "2144aac06cac49efa33620a1d24e8aad",
            "b45ce99086d943c49036b074221cd90e",
            "0434a7e0242c430898fb7054f17bca4b",
            "3afe79d540374542b0f27f0c8a6e06c3"
          ]
        },
        "id": "gmQeMcScRQTG",
        "outputId": "33757a10-bd78-43ac-b2f5-89d9d056c1f7"
      },
      "source": [
        "def my_sin(x, amp, w, phi):\n",
        "  return (amp*np.sin(w*(x - phi)))\n",
        "def draw_sin(w, amp, phi):\n",
        "  y = my_sin(x, amp, w, phi)\n",
        "  fig, ax = plt.subplots()\n",
        "  ax.grid(True)\n",
        "  ax.plot(x, y, color='red')\n",
        "  print(w, amp, phi)\n",
        "wd.interact(draw_sin, w=(0,10,1), amp = (0,4,.1), phi=(0,2*np.pi + 0.01, 0.01))"
      ],
      "execution_count": null,
      "outputs": [
        {
          "output_type": "display_data",
          "data": {
            "application/vnd.jupyter.widget-view+json": {
              "model_id": "20e0ed5bda5742c98a96267a6a576bf1",
              "version_minor": 0,
              "version_major": 2
            },
            "text/plain": [
              "interactive(children=(IntSlider(value=5, description='w', max=10), FloatSlider(value=2.0, description='amp', m…"
            ]
          },
          "metadata": {
            "tags": []
          }
        },
        {
          "output_type": "execute_result",
          "data": {
            "text/plain": [
              "<function __main__.draw_sin>"
            ]
          },
          "metadata": {
            "tags": []
          },
          "execution_count": 13
        }
      ]
    },
    {
      "cell_type": "markdown",
      "metadata": {
        "id": "VS5tqUe8RbUU"
      },
      "source": [
        "#**Data**"
      ]
    },
    {
      "cell_type": "code",
      "metadata": {
        "id": "v3RCEdWBRdFJ"
      },
      "source": [
        "import pandas as pd"
      ],
      "execution_count": null,
      "outputs": []
    },
    {
      "cell_type": "code",
      "metadata": {
        "id": "MhwriZGHRgi5"
      },
      "source": [
        "data = pd.read_csv(\"/content/sample_data/california_housing_test.csv\")"
      ],
      "execution_count": null,
      "outputs": []
    },
    {
      "cell_type": "code",
      "metadata": {
        "colab": {
          "base_uri": "https://localhost:8080/"
        },
        "id": "IGzhIZbzRiiG",
        "outputId": "ef9f9a79-885f-4197-858b-98e5ee36e4f2"
      },
      "source": [
        "data.info()"
      ],
      "execution_count": null,
      "outputs": [
        {
          "output_type": "stream",
          "text": [
            "<class 'pandas.core.frame.DataFrame'>\n",
            "RangeIndex: 3000 entries, 0 to 2999\n",
            "Data columns (total 9 columns):\n",
            " #   Column              Non-Null Count  Dtype  \n",
            "---  ------              --------------  -----  \n",
            " 0   longitude           3000 non-null   float64\n",
            " 1   latitude            3000 non-null   float64\n",
            " 2   housing_median_age  3000 non-null   float64\n",
            " 3   total_rooms         3000 non-null   float64\n",
            " 4   total_bedrooms      3000 non-null   float64\n",
            " 5   population          3000 non-null   float64\n",
            " 6   households          3000 non-null   float64\n",
            " 7   median_income       3000 non-null   float64\n",
            " 8   median_house_value  3000 non-null   float64\n",
            "dtypes: float64(9)\n",
            "memory usage: 211.1 KB\n"
          ],
          "name": "stdout"
        }
      ]
    },
    {
      "cell_type": "code",
      "metadata": {
        "colab": {
          "base_uri": "https://localhost:8080/",
          "height": 297
        },
        "id": "W9DFn3hkRk_8",
        "outputId": "29a20f82-a38d-476b-8e8f-bcc46826d852"
      },
      "source": [
        "data.describe()"
      ],
      "execution_count": null,
      "outputs": [
        {
          "output_type": "execute_result",
          "data": {
            "text/html": [
              "<div>\n",
              "<style scoped>\n",
              "    .dataframe tbody tr th:only-of-type {\n",
              "        vertical-align: middle;\n",
              "    }\n",
              "\n",
              "    .dataframe tbody tr th {\n",
              "        vertical-align: top;\n",
              "    }\n",
              "\n",
              "    .dataframe thead th {\n",
              "        text-align: right;\n",
              "    }\n",
              "</style>\n",
              "<table border=\"1\" class=\"dataframe\">\n",
              "  <thead>\n",
              "    <tr style=\"text-align: right;\">\n",
              "      <th></th>\n",
              "      <th>longitude</th>\n",
              "      <th>latitude</th>\n",
              "      <th>housing_median_age</th>\n",
              "      <th>total_rooms</th>\n",
              "      <th>total_bedrooms</th>\n",
              "      <th>population</th>\n",
              "      <th>households</th>\n",
              "      <th>median_income</th>\n",
              "      <th>median_house_value</th>\n",
              "    </tr>\n",
              "  </thead>\n",
              "  <tbody>\n",
              "    <tr>\n",
              "      <th>count</th>\n",
              "      <td>3000.000000</td>\n",
              "      <td>3000.00000</td>\n",
              "      <td>3000.000000</td>\n",
              "      <td>3000.000000</td>\n",
              "      <td>3000.000000</td>\n",
              "      <td>3000.000000</td>\n",
              "      <td>3000.00000</td>\n",
              "      <td>3000.000000</td>\n",
              "      <td>3000.00000</td>\n",
              "    </tr>\n",
              "    <tr>\n",
              "      <th>mean</th>\n",
              "      <td>-119.589200</td>\n",
              "      <td>35.63539</td>\n",
              "      <td>28.845333</td>\n",
              "      <td>2599.578667</td>\n",
              "      <td>529.950667</td>\n",
              "      <td>1402.798667</td>\n",
              "      <td>489.91200</td>\n",
              "      <td>3.807272</td>\n",
              "      <td>205846.27500</td>\n",
              "    </tr>\n",
              "    <tr>\n",
              "      <th>std</th>\n",
              "      <td>1.994936</td>\n",
              "      <td>2.12967</td>\n",
              "      <td>12.555396</td>\n",
              "      <td>2155.593332</td>\n",
              "      <td>415.654368</td>\n",
              "      <td>1030.543012</td>\n",
              "      <td>365.42271</td>\n",
              "      <td>1.854512</td>\n",
              "      <td>113119.68747</td>\n",
              "    </tr>\n",
              "    <tr>\n",
              "      <th>min</th>\n",
              "      <td>-124.180000</td>\n",
              "      <td>32.56000</td>\n",
              "      <td>1.000000</td>\n",
              "      <td>6.000000</td>\n",
              "      <td>2.000000</td>\n",
              "      <td>5.000000</td>\n",
              "      <td>2.00000</td>\n",
              "      <td>0.499900</td>\n",
              "      <td>22500.00000</td>\n",
              "    </tr>\n",
              "    <tr>\n",
              "      <th>25%</th>\n",
              "      <td>-121.810000</td>\n",
              "      <td>33.93000</td>\n",
              "      <td>18.000000</td>\n",
              "      <td>1401.000000</td>\n",
              "      <td>291.000000</td>\n",
              "      <td>780.000000</td>\n",
              "      <td>273.00000</td>\n",
              "      <td>2.544000</td>\n",
              "      <td>121200.00000</td>\n",
              "    </tr>\n",
              "    <tr>\n",
              "      <th>50%</th>\n",
              "      <td>-118.485000</td>\n",
              "      <td>34.27000</td>\n",
              "      <td>29.000000</td>\n",
              "      <td>2106.000000</td>\n",
              "      <td>437.000000</td>\n",
              "      <td>1155.000000</td>\n",
              "      <td>409.50000</td>\n",
              "      <td>3.487150</td>\n",
              "      <td>177650.00000</td>\n",
              "    </tr>\n",
              "    <tr>\n",
              "      <th>75%</th>\n",
              "      <td>-118.020000</td>\n",
              "      <td>37.69000</td>\n",
              "      <td>37.000000</td>\n",
              "      <td>3129.000000</td>\n",
              "      <td>636.000000</td>\n",
              "      <td>1742.750000</td>\n",
              "      <td>597.25000</td>\n",
              "      <td>4.656475</td>\n",
              "      <td>263975.00000</td>\n",
              "    </tr>\n",
              "    <tr>\n",
              "      <th>max</th>\n",
              "      <td>-114.490000</td>\n",
              "      <td>41.92000</td>\n",
              "      <td>52.000000</td>\n",
              "      <td>30450.000000</td>\n",
              "      <td>5419.000000</td>\n",
              "      <td>11935.000000</td>\n",
              "      <td>4930.00000</td>\n",
              "      <td>15.000100</td>\n",
              "      <td>500001.00000</td>\n",
              "    </tr>\n",
              "  </tbody>\n",
              "</table>\n",
              "</div>"
            ],
            "text/plain": [
              "         longitude    latitude  ...  median_income  median_house_value\n",
              "count  3000.000000  3000.00000  ...    3000.000000          3000.00000\n",
              "mean   -119.589200    35.63539  ...       3.807272        205846.27500\n",
              "std       1.994936     2.12967  ...       1.854512        113119.68747\n",
              "min    -124.180000    32.56000  ...       0.499900         22500.00000\n",
              "25%    -121.810000    33.93000  ...       2.544000        121200.00000\n",
              "50%    -118.485000    34.27000  ...       3.487150        177650.00000\n",
              "75%    -118.020000    37.69000  ...       4.656475        263975.00000\n",
              "max    -114.490000    41.92000  ...      15.000100        500001.00000\n",
              "\n",
              "[8 rows x 9 columns]"
            ]
          },
          "metadata": {
            "tags": []
          },
          "execution_count": 17
        }
      ]
    },
    {
      "cell_type": "markdown",
      "metadata": {
        "id": "qNV55BJbRwSC"
      },
      "source": [
        "#**Домашняя работа**"
      ]
    },
    {
      "cell_type": "code",
      "metadata": {
        "colab": {
          "base_uri": "https://localhost:8080/",
          "height": 81,
          "referenced_widgets": [
            "fe127b7d9d9c450894a1d4d47fd4b565",
            "800a848b56a34707b836bac2457e34e6",
            "85a0350cea004ecdaaab4b4f737f3e01",
            "3d7a5ac0e50145e5b65ddb77bc03b075",
            "746064d564b44b639a948cd8da416256",
            "dd6d2eba2dad464089c8a9d277a7d544",
            "85219384f2ea442dacf2f965f59b07ae",
            "12c49c6c2fbe4d8fb375c729d902ed3b",
            "fa2c92a3abcc42daaa553e377d4c723a",
            "4c869ac5a95c403f822bb74513d62897"
          ]
        },
        "id": "HsVgInv7R0bc",
        "outputId": "3e895abd-3476-43a4-ea9d-009d699cb95e"
      },
      "source": [
        "button = wd.Button(description=\"INFO\")\n",
        "output = wd.Output()\n",
        "\n",
        "def  on_my_button_click(b):\n",
        "    with output:\n",
        "        print(data.info())\n",
        "        print('_________________________')\n",
        "button.on_click(on_my_button_click)\n",
        "display(button, output)\n",
        "\n",
        "button = wd.Button(description=\"DESCRIBE\")\n",
        "output = wd.Output()\n",
        "\n",
        "def  on_my_button_click(b):\n",
        "    with output:\n",
        "        print(data.describe())\n",
        "        print('_________________________')\n",
        "button.on_click(on_my_button_click)\n",
        "display(button, output)"
      ],
      "execution_count": null,
      "outputs": [
        {
          "output_type": "display_data",
          "data": {
            "application/vnd.jupyter.widget-view+json": {
              "model_id": "fe127b7d9d9c450894a1d4d47fd4b565",
              "version_minor": 0,
              "version_major": 2
            },
            "text/plain": [
              "Button(description='INFO', style=ButtonStyle())"
            ]
          },
          "metadata": {
            "tags": []
          }
        },
        {
          "output_type": "display_data",
          "data": {
            "application/vnd.jupyter.widget-view+json": {
              "model_id": "3d7a5ac0e50145e5b65ddb77bc03b075",
              "version_minor": 0,
              "version_major": 2
            },
            "text/plain": [
              "Output()"
            ]
          },
          "metadata": {
            "tags": []
          }
        },
        {
          "output_type": "display_data",
          "data": {
            "application/vnd.jupyter.widget-view+json": {
              "model_id": "dd6d2eba2dad464089c8a9d277a7d544",
              "version_minor": 0,
              "version_major": 2
            },
            "text/plain": [
              "Button(description='DESCRIBE', style=ButtonStyle())"
            ]
          },
          "metadata": {
            "tags": []
          }
        },
        {
          "output_type": "display_data",
          "data": {
            "application/vnd.jupyter.widget-view+json": {
              "model_id": "fa2c92a3abcc42daaa553e377d4c723a",
              "version_minor": 0,
              "version_major": 2
            },
            "text/plain": [
              "Output()"
            ]
          },
          "metadata": {
            "tags": []
          }
        }
      ]
    },
    {
      "cell_type": "markdown",
      "metadata": {
        "id": "zIhmqEBPWBx8"
      },
      "source": [
        "**3.03.2021**"
      ]
    },
    {
      "cell_type": "markdown",
      "metadata": {
        "id": "TYQ5cVzBWZLl"
      },
      "source": [
        "#**Import packages**"
      ]
    },
    {
      "cell_type": "code",
      "metadata": {
        "id": "XjzHYk0hWuW2"
      },
      "source": [
        "import pandas as pd\n",
        "import numpy as np\n",
        "from IPython.display import display"
      ],
      "execution_count": null,
      "outputs": []
    },
    {
      "cell_type": "markdown",
      "metadata": {
        "id": "a-V1iUP9Wy2C"
      },
      "source": [
        "#**Import data**"
      ]
    },
    {
      "cell_type": "code",
      "metadata": {
        "colab": {
          "base_uri": "https://localhost:8080/",
          "height": 142
        },
        "id": "QVzRovNTW1ZW",
        "outputId": "05986dc4-353f-4c18-a071-f26d14a4ad66"
      },
      "source": [
        "data = pd.read_csv(\"https://archive.ics.uci.edu/ml/machine-learning-databases/glass/glass.data\",\n",
        "                   header = None)\n",
        "data.head(3)"
      ],
      "execution_count": null,
      "outputs": [
        {
          "output_type": "execute_result",
          "data": {
            "text/html": [
              "<div>\n",
              "<style scoped>\n",
              "    .dataframe tbody tr th:only-of-type {\n",
              "        vertical-align: middle;\n",
              "    }\n",
              "\n",
              "    .dataframe tbody tr th {\n",
              "        vertical-align: top;\n",
              "    }\n",
              "\n",
              "    .dataframe thead th {\n",
              "        text-align: right;\n",
              "    }\n",
              "</style>\n",
              "<table border=\"1\" class=\"dataframe\">\n",
              "  <thead>\n",
              "    <tr style=\"text-align: right;\">\n",
              "      <th></th>\n",
              "      <th>0</th>\n",
              "      <th>1</th>\n",
              "      <th>2</th>\n",
              "      <th>3</th>\n",
              "      <th>4</th>\n",
              "      <th>5</th>\n",
              "      <th>6</th>\n",
              "      <th>7</th>\n",
              "      <th>8</th>\n",
              "      <th>9</th>\n",
              "      <th>10</th>\n",
              "    </tr>\n",
              "  </thead>\n",
              "  <tbody>\n",
              "    <tr>\n",
              "      <th>0</th>\n",
              "      <td>1</td>\n",
              "      <td>1.52101</td>\n",
              "      <td>13.64</td>\n",
              "      <td>4.49</td>\n",
              "      <td>1.10</td>\n",
              "      <td>71.78</td>\n",
              "      <td>0.06</td>\n",
              "      <td>8.75</td>\n",
              "      <td>0.0</td>\n",
              "      <td>0.0</td>\n",
              "      <td>1</td>\n",
              "    </tr>\n",
              "    <tr>\n",
              "      <th>1</th>\n",
              "      <td>2</td>\n",
              "      <td>1.51761</td>\n",
              "      <td>13.89</td>\n",
              "      <td>3.60</td>\n",
              "      <td>1.36</td>\n",
              "      <td>72.73</td>\n",
              "      <td>0.48</td>\n",
              "      <td>7.83</td>\n",
              "      <td>0.0</td>\n",
              "      <td>0.0</td>\n",
              "      <td>1</td>\n",
              "    </tr>\n",
              "    <tr>\n",
              "      <th>2</th>\n",
              "      <td>3</td>\n",
              "      <td>1.51618</td>\n",
              "      <td>13.53</td>\n",
              "      <td>3.55</td>\n",
              "      <td>1.54</td>\n",
              "      <td>72.99</td>\n",
              "      <td>0.39</td>\n",
              "      <td>7.78</td>\n",
              "      <td>0.0</td>\n",
              "      <td>0.0</td>\n",
              "      <td>1</td>\n",
              "    </tr>\n",
              "  </tbody>\n",
              "</table>\n",
              "</div>"
            ],
            "text/plain": [
              "   0        1      2     3     4      5     6     7    8    9   10\n",
              "0   1  1.52101  13.64  4.49  1.10  71.78  0.06  8.75  0.0  0.0   1\n",
              "1   2  1.51761  13.89  3.60  1.36  72.73  0.48  7.83  0.0  0.0   1\n",
              "2   3  1.51618  13.53  3.55  1.54  72.99  0.39  7.78  0.0  0.0   1"
            ]
          },
          "metadata": {
            "tags": []
          },
          "execution_count": 20
        }
      ]
    },
    {
      "cell_type": "code",
      "metadata": {
        "colab": {
          "base_uri": "https://localhost:8080/",
          "height": 142
        },
        "id": "V1Z3yP_2W7wZ",
        "outputId": "c497a5f8-6b85-4035-bee3-dbac81174037"
      },
      "source": [
        "names = [\"Id\", \"RI\", \"Na\", \"Mg\", \"Al\", \"Si\", \"K\", \"Ca\", \"Ba\", \"Fe\", \"Class\"]\n",
        "data.columns = names\n",
        "data = data.drop(columns=['Id'])\n",
        "data.head(3)"
      ],
      "execution_count": null,
      "outputs": [
        {
          "output_type": "execute_result",
          "data": {
            "text/html": [
              "<div>\n",
              "<style scoped>\n",
              "    .dataframe tbody tr th:only-of-type {\n",
              "        vertical-align: middle;\n",
              "    }\n",
              "\n",
              "    .dataframe tbody tr th {\n",
              "        vertical-align: top;\n",
              "    }\n",
              "\n",
              "    .dataframe thead th {\n",
              "        text-align: right;\n",
              "    }\n",
              "</style>\n",
              "<table border=\"1\" class=\"dataframe\">\n",
              "  <thead>\n",
              "    <tr style=\"text-align: right;\">\n",
              "      <th></th>\n",
              "      <th>RI</th>\n",
              "      <th>Na</th>\n",
              "      <th>Mg</th>\n",
              "      <th>Al</th>\n",
              "      <th>Si</th>\n",
              "      <th>K</th>\n",
              "      <th>Ca</th>\n",
              "      <th>Ba</th>\n",
              "      <th>Fe</th>\n",
              "      <th>Class</th>\n",
              "    </tr>\n",
              "  </thead>\n",
              "  <tbody>\n",
              "    <tr>\n",
              "      <th>0</th>\n",
              "      <td>1.52101</td>\n",
              "      <td>13.64</td>\n",
              "      <td>4.49</td>\n",
              "      <td>1.10</td>\n",
              "      <td>71.78</td>\n",
              "      <td>0.06</td>\n",
              "      <td>8.75</td>\n",
              "      <td>0.0</td>\n",
              "      <td>0.0</td>\n",
              "      <td>1</td>\n",
              "    </tr>\n",
              "    <tr>\n",
              "      <th>1</th>\n",
              "      <td>1.51761</td>\n",
              "      <td>13.89</td>\n",
              "      <td>3.60</td>\n",
              "      <td>1.36</td>\n",
              "      <td>72.73</td>\n",
              "      <td>0.48</td>\n",
              "      <td>7.83</td>\n",
              "      <td>0.0</td>\n",
              "      <td>0.0</td>\n",
              "      <td>1</td>\n",
              "    </tr>\n",
              "    <tr>\n",
              "      <th>2</th>\n",
              "      <td>1.51618</td>\n",
              "      <td>13.53</td>\n",
              "      <td>3.55</td>\n",
              "      <td>1.54</td>\n",
              "      <td>72.99</td>\n",
              "      <td>0.39</td>\n",
              "      <td>7.78</td>\n",
              "      <td>0.0</td>\n",
              "      <td>0.0</td>\n",
              "      <td>1</td>\n",
              "    </tr>\n",
              "  </tbody>\n",
              "</table>\n",
              "</div>"
            ],
            "text/plain": [
              "        RI     Na    Mg    Al     Si     K    Ca   Ba   Fe  Class\n",
              "0  1.52101  13.64  4.49  1.10  71.78  0.06  8.75  0.0  0.0      1\n",
              "1  1.51761  13.89  3.60  1.36  72.73  0.48  7.83  0.0  0.0      1\n",
              "2  1.51618  13.53  3.55  1.54  72.99  0.39  7.78  0.0  0.0      1"
            ]
          },
          "metadata": {
            "tags": []
          },
          "execution_count": 21
        }
      ]
    },
    {
      "cell_type": "code",
      "metadata": {
        "colab": {
          "base_uri": "https://localhost:8080/"
        },
        "id": "H2At4sXkW-Ip",
        "outputId": "95c45128-8b75-49e6-db13-aa1a513b0c61"
      },
      "source": [
        "data['Class'].replace({1:\"building_float\", \n",
        "                       2:\"building_non_float\", \n",
        "                       3:\"vehicle_float\",\n",
        "                       4:\"vehicle_non_float\",\n",
        "                       5:\"containers\",\n",
        "                       6:\"tableware\",\n",
        "                       7:\"headlamps\"}, inplace=True)\n",
        "data['Class'].value_counts()"
      ],
      "execution_count": null,
      "outputs": [
        {
          "output_type": "execute_result",
          "data": {
            "text/plain": [
              "building_non_float    76\n",
              "building_float        70\n",
              "headlamps             29\n",
              "vehicle_float         17\n",
              "containers            13\n",
              "tableware              9\n",
              "Name: Class, dtype: int64"
            ]
          },
          "metadata": {
            "tags": []
          },
          "execution_count": 22
        }
      ]
    },
    {
      "cell_type": "code",
      "metadata": {
        "colab": {
          "base_uri": "https://localhost:8080/"
        },
        "id": "J7GlM3m4XBat",
        "outputId": "0c8d2bc4-c829-4069-e88d-8bd6972fb060"
      },
      "source": [
        "data.info()"
      ],
      "execution_count": null,
      "outputs": [
        {
          "output_type": "stream",
          "text": [
            "<class 'pandas.core.frame.DataFrame'>\n",
            "RangeIndex: 214 entries, 0 to 213\n",
            "Data columns (total 10 columns):\n",
            " #   Column  Non-Null Count  Dtype  \n",
            "---  ------  --------------  -----  \n",
            " 0   RI      214 non-null    float64\n",
            " 1   Na      214 non-null    float64\n",
            " 2   Mg      214 non-null    float64\n",
            " 3   Al      214 non-null    float64\n",
            " 4   Si      214 non-null    float64\n",
            " 5   K       214 non-null    float64\n",
            " 6   Ca      214 non-null    float64\n",
            " 7   Ba      214 non-null    float64\n",
            " 8   Fe      214 non-null    float64\n",
            " 9   Class   214 non-null    object \n",
            "dtypes: float64(9), object(1)\n",
            "memory usage: 16.8+ KB\n"
          ],
          "name": "stdout"
        }
      ]
    },
    {
      "cell_type": "code",
      "metadata": {
        "id": "3EMhyRKtXDte"
      },
      "source": [
        " for col in data.columns:\n",
        "      fr = np.random.randint(5,10)/100\n",
        "      data.loc[data.sample(frac=fr).index, col] = np.nan"
      ],
      "execution_count": null,
      "outputs": []
    },
    {
      "cell_type": "markdown",
      "metadata": {
        "id": "0I3FTIYuXHqe"
      },
      "source": [
        "#**Data Visualization**"
      ]
    },
    {
      "cell_type": "code",
      "metadata": {
        "colab": {
          "base_uri": "https://localhost:8080/"
        },
        "id": "gdrKY1H0XM38",
        "outputId": "15fa7fcf-4ff2-42b2-fa1f-93d63cc664cf"
      },
      "source": [
        "data.info()"
      ],
      "execution_count": null,
      "outputs": [
        {
          "output_type": "stream",
          "text": [
            "<class 'pandas.core.frame.DataFrame'>\n",
            "RangeIndex: 214 entries, 0 to 213\n",
            "Data columns (total 10 columns):\n",
            " #   Column  Non-Null Count  Dtype  \n",
            "---  ------  --------------  -----  \n",
            " 0   RI      195 non-null    float64\n",
            " 1   Na      199 non-null    float64\n",
            " 2   Mg      195 non-null    float64\n",
            " 3   Al      195 non-null    float64\n",
            " 4   Si      197 non-null    float64\n",
            " 5   K       199 non-null    float64\n",
            " 6   Ca      197 non-null    float64\n",
            " 7   Ba      201 non-null    float64\n",
            " 8   Fe      195 non-null    float64\n",
            " 9   Class   197 non-null    object \n",
            "dtypes: float64(9), object(1)\n",
            "memory usage: 16.8+ KB\n"
          ],
          "name": "stdout"
        }
      ]
    },
    {
      "cell_type": "code",
      "metadata": {
        "colab": {
          "base_uri": "https://localhost:8080/",
          "height": 297
        },
        "id": "P7ztvao-XSRA",
        "outputId": "913b9ee0-d148-4a06-f5b2-1e92956e9865"
      },
      "source": [
        "data.describe()"
      ],
      "execution_count": null,
      "outputs": [
        {
          "output_type": "execute_result",
          "data": {
            "text/html": [
              "<div>\n",
              "<style scoped>\n",
              "    .dataframe tbody tr th:only-of-type {\n",
              "        vertical-align: middle;\n",
              "    }\n",
              "\n",
              "    .dataframe tbody tr th {\n",
              "        vertical-align: top;\n",
              "    }\n",
              "\n",
              "    .dataframe thead th {\n",
              "        text-align: right;\n",
              "    }\n",
              "</style>\n",
              "<table border=\"1\" class=\"dataframe\">\n",
              "  <thead>\n",
              "    <tr style=\"text-align: right;\">\n",
              "      <th></th>\n",
              "      <th>RI</th>\n",
              "      <th>Na</th>\n",
              "      <th>Mg</th>\n",
              "      <th>Al</th>\n",
              "      <th>Si</th>\n",
              "      <th>K</th>\n",
              "      <th>Ca</th>\n",
              "      <th>Ba</th>\n",
              "      <th>Fe</th>\n",
              "    </tr>\n",
              "  </thead>\n",
              "  <tbody>\n",
              "    <tr>\n",
              "      <th>count</th>\n",
              "      <td>195.000000</td>\n",
              "      <td>199.000000</td>\n",
              "      <td>195.000000</td>\n",
              "      <td>195.000000</td>\n",
              "      <td>197.000000</td>\n",
              "      <td>199.000000</td>\n",
              "      <td>197.000000</td>\n",
              "      <td>201.000000</td>\n",
              "      <td>195.000000</td>\n",
              "    </tr>\n",
              "    <tr>\n",
              "      <th>mean</th>\n",
              "      <td>1.518473</td>\n",
              "      <td>13.404020</td>\n",
              "      <td>2.695744</td>\n",
              "      <td>1.442769</td>\n",
              "      <td>72.661371</td>\n",
              "      <td>0.495729</td>\n",
              "      <td>8.911472</td>\n",
              "      <td>0.160746</td>\n",
              "      <td>0.056154</td>\n",
              "    </tr>\n",
              "    <tr>\n",
              "      <th>std</th>\n",
              "      <td>0.003061</td>\n",
              "      <td>0.830236</td>\n",
              "      <td>1.442049</td>\n",
              "      <td>0.508176</td>\n",
              "      <td>0.757250</td>\n",
              "      <td>0.674625</td>\n",
              "      <td>1.312203</td>\n",
              "      <td>0.484290</td>\n",
              "      <td>0.095869</td>\n",
              "    </tr>\n",
              "    <tr>\n",
              "      <th>min</th>\n",
              "      <td>1.511150</td>\n",
              "      <td>10.730000</td>\n",
              "      <td>0.000000</td>\n",
              "      <td>0.290000</td>\n",
              "      <td>69.810000</td>\n",
              "      <td>0.000000</td>\n",
              "      <td>5.430000</td>\n",
              "      <td>0.000000</td>\n",
              "      <td>0.000000</td>\n",
              "    </tr>\n",
              "    <tr>\n",
              "      <th>25%</th>\n",
              "      <td>1.516590</td>\n",
              "      <td>12.915000</td>\n",
              "      <td>2.140000</td>\n",
              "      <td>1.185000</td>\n",
              "      <td>72.260000</td>\n",
              "      <td>0.115000</td>\n",
              "      <td>8.270000</td>\n",
              "      <td>0.000000</td>\n",
              "      <td>0.000000</td>\n",
              "    </tr>\n",
              "    <tr>\n",
              "      <th>50%</th>\n",
              "      <td>1.517680</td>\n",
              "      <td>13.300000</td>\n",
              "      <td>3.480000</td>\n",
              "      <td>1.360000</td>\n",
              "      <td>72.810000</td>\n",
              "      <td>0.550000</td>\n",
              "      <td>8.600000</td>\n",
              "      <td>0.000000</td>\n",
              "      <td>0.000000</td>\n",
              "    </tr>\n",
              "    <tr>\n",
              "      <th>75%</th>\n",
              "      <td>1.519220</td>\n",
              "      <td>13.805000</td>\n",
              "      <td>3.595000</td>\n",
              "      <td>1.630000</td>\n",
              "      <td>73.080000</td>\n",
              "      <td>0.610000</td>\n",
              "      <td>9.140000</td>\n",
              "      <td>0.000000</td>\n",
              "      <td>0.100000</td>\n",
              "    </tr>\n",
              "    <tr>\n",
              "      <th>max</th>\n",
              "      <td>1.533930</td>\n",
              "      <td>17.380000</td>\n",
              "      <td>4.490000</td>\n",
              "      <td>3.500000</td>\n",
              "      <td>75.410000</td>\n",
              "      <td>6.210000</td>\n",
              "      <td>14.960000</td>\n",
              "      <td>3.150000</td>\n",
              "      <td>0.510000</td>\n",
              "    </tr>\n",
              "  </tbody>\n",
              "</table>\n",
              "</div>"
            ],
            "text/plain": [
              "               RI          Na          Mg  ...          Ca          Ba          Fe\n",
              "count  195.000000  199.000000  195.000000  ...  197.000000  201.000000  195.000000\n",
              "mean     1.518473   13.404020    2.695744  ...    8.911472    0.160746    0.056154\n",
              "std      0.003061    0.830236    1.442049  ...    1.312203    0.484290    0.095869\n",
              "min      1.511150   10.730000    0.000000  ...    5.430000    0.000000    0.000000\n",
              "25%      1.516590   12.915000    2.140000  ...    8.270000    0.000000    0.000000\n",
              "50%      1.517680   13.300000    3.480000  ...    8.600000    0.000000    0.000000\n",
              "75%      1.519220   13.805000    3.595000  ...    9.140000    0.000000    0.100000\n",
              "max      1.533930   17.380000    4.490000  ...   14.960000    3.150000    0.510000\n",
              "\n",
              "[8 rows x 9 columns]"
            ]
          },
          "metadata": {
            "tags": []
          },
          "execution_count": 26
        }
      ]
    },
    {
      "cell_type": "code",
      "metadata": {
        "colab": {
          "base_uri": "https://localhost:8080/",
          "height": 255
        },
        "id": "qNMTfMGkXUYN",
        "outputId": "a33cd5f5-ec65-4d89-e47d-48f65a1f5a13"
      },
      "source": [
        "print('_______________________')\n",
        "display(data['Class'].describe())\n",
        "print('_______________________')\n",
        "display(data['Class'].value_counts())"
      ],
      "execution_count": null,
      "outputs": [
        {
          "output_type": "stream",
          "text": [
            "_______________________\n"
          ],
          "name": "stdout"
        },
        {
          "output_type": "display_data",
          "data": {
            "text/plain": [
              "count                    197\n",
              "unique                     6\n",
              "top       building_non_float\n",
              "freq                      70\n",
              "Name: Class, dtype: object"
            ]
          },
          "metadata": {
            "tags": []
          }
        },
        {
          "output_type": "stream",
          "text": [
            "_______________________\n"
          ],
          "name": "stdout"
        },
        {
          "output_type": "display_data",
          "data": {
            "text/plain": [
              "building_non_float    70\n",
              "building_float        65\n",
              "headlamps             26\n",
              "vehicle_float         17\n",
              "containers            11\n",
              "tableware              8\n",
              "Name: Class, dtype: int64"
            ]
          },
          "metadata": {
            "tags": []
          }
        }
      ]
    },
    {
      "cell_type": "markdown",
      "metadata": {
        "id": "vpYMOrWzXZ5b"
      },
      "source": [
        "#**Git**"
      ]
    },
    {
      "cell_type": "code",
      "metadata": {
        "colab": {
          "base_uri": "https://localhost:8080/"
        },
        "id": "0pUCyQ75Xg50",
        "outputId": "05e5c6dc-4552-4d46-da0b-2e5ddc38577f"
      },
      "source": [
        "!git init"
      ],
      "execution_count": null,
      "outputs": [
        {
          "output_type": "stream",
          "text": [
            "Initialized empty Git repository in /content/.git/\n"
          ],
          "name": "stdout"
        }
      ]
    },
    {
      "cell_type": "code",
      "metadata": {
        "id": "TCwZAkauXm61"
      },
      "source": [
        "!git config --global user.email friendschannel23@gmail.com\n",
        "!git config --global user.name Vitaliy"
      ],
      "execution_count": null,
      "outputs": []
    },
    {
      "cell_type": "code",
      "metadata": {
        "colab": {
          "base_uri": "https://localhost:8080/"
        },
        "id": "hPl5qoUpXtwo",
        "outputId": "8d7a9649-1bc8-4153-d4e9-0a9192eb9a0f"
      },
      "source": [
        "!git status"
      ],
      "execution_count": null,
      "outputs": [
        {
          "output_type": "stream",
          "text": [
            "On branch master\n",
            "\n",
            "No commits yet\n",
            "\n",
            "Untracked files:\n",
            "  (use \"git add <file>...\" to include in what will be committed)\n",
            "\n",
            "\t\u001b[31m.config/\u001b[m\n",
            "\t\u001b[31msample_data/\u001b[m\n",
            "\n",
            "nothing added to commit but untracked files present (use \"git add\" to track)\n"
          ],
          "name": "stdout"
        }
      ]
    },
    {
      "cell_type": "code",
      "metadata": {
        "colab": {
          "base_uri": "https://localhost:8080/"
        },
        "id": "eU9LTH7rXv6l",
        "outputId": "39dedec6-451f-4159-e532-f3947e684955"
      },
      "source": [
        "from google.colab import drive\n",
        "drive.mount('/content/PR3')"
      ],
      "execution_count": null,
      "outputs": [
        {
          "output_type": "stream",
          "text": [
            "Mounted at /content/PR3\n"
          ],
          "name": "stdout"
        }
      ]
    },
    {
      "cell_type": "markdown",
      "metadata": {
        "id": "GhcWG0ChX-ss"
      },
      "source": [
        "**10.03.2021**"
      ]
    },
    {
      "cell_type": "code",
      "metadata": {
        "colab": {
          "base_uri": "https://localhost:8080/"
        },
        "id": "elKVAcFaYClJ",
        "outputId": "9cdfba40-8375-473f-ce90-a7de2aca5905"
      },
      "source": [
        "data['Al'].isna().sum()"
      ],
      "execution_count": null,
      "outputs": [
        {
          "output_type": "execute_result",
          "data": {
            "text/plain": [
              "19"
            ]
          },
          "metadata": {
            "tags": []
          },
          "execution_count": 32
        }
      ]
    },
    {
      "cell_type": "code",
      "metadata": {
        "colab": {
          "base_uri": "https://localhost:8080/"
        },
        "id": "CAYgnn7qYEhs",
        "outputId": "2ab22f9f-d16a-483c-a507-27c0532cd10c"
      },
      "source": [
        "for col in data.columns:\n",
        "  missing_values_counts = data[col].isna().sum()\n",
        "  percentage = 100*missing_values_counts/len(data[col])\n",
        "  print(\"Column\", col, \"contains\", missing_values_counts, \"NULL values(\", percentage, \"% ).\")"
      ],
      "execution_count": null,
      "outputs": [
        {
          "output_type": "stream",
          "text": [
            "Column RI contains 19 NULL values( 8.878504672897197 % ).\n",
            "Column Na contains 15 NULL values( 7.009345794392523 % ).\n",
            "Column Mg contains 19 NULL values( 8.878504672897197 % ).\n",
            "Column Al contains 19 NULL values( 8.878504672897197 % ).\n",
            "Column Si contains 17 NULL values( 7.94392523364486 % ).\n",
            "Column K contains 15 NULL values( 7.009345794392523 % ).\n",
            "Column Ca contains 17 NULL values( 7.94392523364486 % ).\n",
            "Column Ba contains 13 NULL values( 6.074766355140187 % ).\n",
            "Column Fe contains 19 NULL values( 8.878504672897197 % ).\n",
            "Column Class contains 17 NULL values( 7.94392523364486 % ).\n"
          ],
          "name": "stdout"
        }
      ]
    },
    {
      "cell_type": "code",
      "metadata": {
        "id": "QfqVn4ZnYGpR"
      },
      "source": [
        "import matplotlib.pyplot as plt\n",
        "import seaborn as sns"
      ],
      "execution_count": null,
      "outputs": []
    },
    {
      "cell_type": "markdown",
      "metadata": {
        "id": "O3E6n4vNYJnp"
      },
      "source": [
        "#**Histograms**"
      ]
    },
    {
      "cell_type": "code",
      "metadata": {
        "colab": {
          "base_uri": "https://localhost:8080/",
          "height": 304
        },
        "id": "5tQ-Q0syYQLk",
        "outputId": "1a5294db-dc85-41ee-c68f-0b795604d404"
      },
      "source": [
        "col='Fe'\n",
        "fig, ax = plt.subplots()\n",
        "ax.hist(data[col], bins=20)\n",
        "ax.set_xlabel(col, fontsize=16)\n",
        "ax.set_title(\"Гистограмма для  \" + str(col), fontsize=18)\n",
        "plt.show()"
      ],
      "execution_count": null,
      "outputs": [
        {
          "output_type": "display_data",
          "data": {
            "image/png": "[encoded data removed]",
            "text/plain": [
              "<Figure size 432x288 with 1 Axes>"
            ]
          },
          "metadata": {
            "tags": [],
            "needs_background": "light"
          }
        }
      ]
    },
    {
      "cell_type": "code",
      "metadata": {
        "colab": {
          "base_uri": "https://localhost:8080/",
          "height": 287
        },
        "id": "Ek2-hhOfYU-U",
        "outputId": "afdf9c4b-f090-4270-acf7-90a888611d0b"
      },
      "source": [
        "ax = data[col].plot(kind='hist')\n",
        "ax.set_xlabel(col, fontsize=16)\n",
        "plt.show()"
      ],
      "execution_count": null,
      "outputs": [
        {
          "output_type": "display_data",
          "data": {
            "image/png": "[encoded data removed]",
            "text/plain": [
              "<Figure size 432x288 with 1 Axes>"
            ]
          },
          "metadata": {
            "tags": [],
            "needs_background": "light"
          }
        }
      ]
    },
    {
      "cell_type": "code",
      "metadata": {
        "colab": {
          "base_uri": "https://localhost:8080/",
          "height": 280
        },
        "id": "SvUL2UIKYkzW",
        "outputId": "ee055fad-181d-4ab5-8ab2-b6f7b9d6ec47"
      },
      "source": [
        "sns.histplot(data=data, x=col, kde=True, stat='probability', bins=20)\n",
        "plt.show()"
      ],
      "execution_count": null,
      "outputs": [
        {
          "output_type": "display_data",
          "data": {
            "image/png": "[encoded data removed]",
            "text/plain": [
              "<Figure size 432x288 with 1 Axes>"
            ]
          },
          "metadata": {
            "tags": [],
            "needs_background": "light"
          }
        }
      ]
    },
    {
      "cell_type": "markdown",
      "metadata": {
        "id": "b6HFFs_bYqdP"
      },
      "source": [
        "#**Bar**"
      ]
    },
    {
      "cell_type": "code",
      "metadata": {
        "colab": {
          "base_uri": "https://localhost:8080/",
          "height": 467
        },
        "id": "5hT4psHTYvaF",
        "outputId": "bdf0a919-cc38-4d5b-ef8d-3ca25df92626"
      },
      "source": [
        "col='Class'\n",
        "\n",
        "fig, ax = plt.subplots(figsize=(12,6))\n",
        "\n",
        "ax.bar(data[col].value_counts().index.values, \n",
        "       data[col].value_counts().values)\n",
        "\n",
        "ax.set_xlabel(None, fontsize=16)\n",
        "ax.set_title('Barplot для '+str(col), fontsize=16)\n",
        "ax.tick_params(axis='x', which='major', \n",
        "               labelsize=14, rotation=35)\n",
        "\n",
        "plt.show()"
      ],
      "execution_count": null,
      "outputs": [
        {
          "output_type": "display_data",
          "data": {
            "image/png": "[encoded data removed]",
            "text/plain": [
              "<Figure size 864x432 with 1 Axes>"
            ]
          },
          "metadata": {
            "tags": [],
            "needs_background": "light"
          }
        }
      ]
    },
    {
      "cell_type": "markdown",
      "metadata": {
        "id": "-viGRGh9YzGo"
      },
      "source": [
        "**17.03.2021**"
      ]
    },
    {
      "cell_type": "markdown",
      "metadata": {
        "id": "NjW6Z0pRY23H"
      },
      "source": [
        "#**Boxplot**"
      ]
    },
    {
      "cell_type": "code",
      "metadata": {
        "colab": {
          "base_uri": "https://localhost:8080/",
          "height": 265
        },
        "id": "usl_aCjSY6TM",
        "outputId": "7e593437-cd4a-4759-d3bc-9e3167e6d8a9"
      },
      "source": [
        "col='Fe'\n",
        "\n",
        "fig, ax = plt.subplots()\n",
        "\n",
        "data1 = data[col][~np.isnan(data[col])].copy()\n",
        "\n",
        "ax.boxplot(data1, showmeans=True) \n",
        "\n",
        "plt.show()"
      ],
      "execution_count": null,
      "outputs": [
        {
          "output_type": "display_data",
          "data": {
            "image/png": "[encoded data removed]",
            "text/plain": [
              "<Figure size 432x288 with 1 Axes>"
            ]
          },
          "metadata": {
            "tags": [],
            "needs_background": "light"
          }
        }
      ]
    },
    {
      "cell_type": "code",
      "metadata": {
        "colab": {
          "base_uri": "https://localhost:8080/",
          "height": 265
        },
        "id": "TK43Rsz0ZB6h",
        "outputId": "a09fa816-b7e5-4b57-87a0-abf996d80e38"
      },
      "source": [
        "data[col].plot(kind='box')\n",
        "plt.show()"
      ],
      "execution_count": null,
      "outputs": [
        {
          "output_type": "display_data",
          "data": {
            "image/png": "[encoded data removed]",
            "text/plain": [
              "<Figure size 432x288 with 1 Axes>"
            ]
          },
          "metadata": {
            "tags": [],
            "needs_background": "light"
          }
        }
      ]
    },
    {
      "cell_type": "code",
      "metadata": {
        "colab": {
          "base_uri": "https://localhost:8080/",
          "height": 319
        },
        "id": "mcVoj8BmZEQw",
        "outputId": "ee646d82-92e3-4b4d-9dfb-55560b8f4c56"
      },
      "source": [
        "data.plot(kind='box')\n",
        "plt.show()"
      ],
      "execution_count": null,
      "outputs": [
        {
          "output_type": "stream",
          "text": [
            "/usr/local/lib/python3.7/dist-packages/numpy/core/_asarray.py:83: VisibleDeprecationWarning: Creating an ndarray from ragged nested sequences (which is a list-or-tuple of lists-or-tuples-or ndarrays with different lengths or shapes) is deprecated. If you meant to do this, you must specify 'dtype=object' when creating the ndarray\n",
            "  return array(a, dtype, copy=False, order=order)\n"
          ],
          "name": "stderr"
        },
        {
          "output_type": "display_data",
          "data": {
            "image/png": "[encoded data removed]",
            "text/plain": [
              "<Figure size 432x288 with 1 Axes>"
            ]
          },
          "metadata": {
            "tags": [],
            "needs_background": "light"
          }
        }
      ]
    },
    {
      "cell_type": "code",
      "metadata": {
        "colab": {
          "base_uri": "https://localhost:8080/",
          "height": 265
        },
        "id": "jlHiaNqSZGkn",
        "outputId": "d2527cea-2191-4fc4-f680-22378d1b2efb"
      },
      "source": [
        "sns.boxplot(data=data[data.columns.values[data.columns.values != \"Si\"]])\n",
        "plt.show()"
      ],
      "execution_count": null,
      "outputs": [
        {
          "output_type": "display_data",
          "data": {
            "image/png": "[encoded data removed]",
            "text/plain": [
              "<Figure size 432x288 with 1 Axes>"
            ]
          },
          "metadata": {
            "tags": [],
            "needs_background": "light"
          }
        }
      ]
    },
    {
      "cell_type": "code",
      "metadata": {
        "colab": {
          "base_uri": "https://localhost:8080/"
        },
        "id": "SW3f1GTSZJH6",
        "outputId": "5d117bab-c7c1-43fc-e47f-21cd4e359fe2"
      },
      "source": [
        "data.columns.values[data.columns.values != \"Si\"]"
      ],
      "execution_count": null,
      "outputs": [
        {
          "output_type": "execute_result",
          "data": {
            "text/plain": [
              "array(['RI', 'Na', 'Mg', 'Al', 'K', 'Ca', 'Ba', 'Fe', 'Class'],\n",
              "      dtype=object)"
            ]
          },
          "metadata": {
            "tags": []
          },
          "execution_count": 43
        }
      ]
    },
    {
      "cell_type": "markdown",
      "metadata": {
        "id": "F6zWo7UwZMOE"
      },
      "source": [
        "#**Шкалирование**"
      ]
    },
    {
      "cell_type": "code",
      "metadata": {
        "id": "yklZBpRQZPrN"
      },
      "source": [
        "import sklearn.preprocessing as prepro"
      ],
      "execution_count": null,
      "outputs": []
    },
    {
      "cell_type": "code",
      "metadata": {
        "id": "TMX_9196ZSoT"
      },
      "source": [
        "scaler1 = prepro.MinMaxScaler()\n",
        "data1 = scaler1.fit_transform(data[data.columns.values[data.columns.values!='Class']])\n",
        "data1 = pd.DataFrame(data1)"
      ],
      "execution_count": null,
      "outputs": []
    },
    {
      "cell_type": "code",
      "metadata": {
        "colab": {
          "base_uri": "https://localhost:8080/",
          "height": 265
        },
        "id": "dN1RkqEyZUrR",
        "outputId": "334415cc-f547-45b2-e52e-a32e3f2b4b94"
      },
      "source": [
        "sns.boxplot(data=data1)\n",
        "plt.show()"
      ],
      "execution_count": null,
      "outputs": [
        {
          "output_type": "display_data",
          "data": {
            "image/png": "[encoded data removed]",
            "text/plain": [
              "<Figure size 432x288 with 1 Axes>"
            ]
          },
          "metadata": {
            "tags": [],
            "needs_background": "light"
          }
        }
      ]
    },
    {
      "cell_type": "code",
      "metadata": {
        "colab": {
          "base_uri": "https://localhost:8080/",
          "height": 319
        },
        "id": "cH9h5wJ8ZW2q",
        "outputId": "fef1163f-9fba-4ff1-af3a-ddaacafc997d"
      },
      "source": [
        "data1.plot(kind='box')\n",
        "plt.show()"
      ],
      "execution_count": null,
      "outputs": [
        {
          "output_type": "stream",
          "text": [
            "/usr/local/lib/python3.7/dist-packages/numpy/core/_asarray.py:83: VisibleDeprecationWarning: Creating an ndarray from ragged nested sequences (which is a list-or-tuple of lists-or-tuples-or ndarrays with different lengths or shapes) is deprecated. If you meant to do this, you must specify 'dtype=object' when creating the ndarray\n",
            "  return array(a, dtype, copy=False, order=order)\n"
          ],
          "name": "stderr"
        },
        {
          "output_type": "display_data",
          "data": {
            "image/png": "[encoded data removed]",
            "text/plain": [
              "<Figure size 432x288 with 1 Axes>"
            ]
          },
          "metadata": {
            "tags": [],
            "needs_background": "light"
          }
        }
      ]
    },
    {
      "cell_type": "code",
      "metadata": {
        "id": "WSnr7ENPZZGm"
      },
      "source": [
        "scaler2 = prepro.StandardScaler()\n",
        "data2 = scaler1.fit_transform(data[data.columns.values[data.columns.values!='Class']])\n",
        "data2 = pd.DataFrame(data2)"
      ],
      "execution_count": null,
      "outputs": []
    },
    {
      "cell_type": "code",
      "metadata": {
        "colab": {
          "base_uri": "https://localhost:8080/",
          "height": 265
        },
        "id": "L-FQyPgKZbJG",
        "outputId": "e33a5f9d-83c8-41f8-a5cc-c5f9d5bded08"
      },
      "source": [
        "sns.boxplot(data=data2)\n",
        "plt.show()"
      ],
      "execution_count": null,
      "outputs": [
        {
          "output_type": "display_data",
          "data": {
            "image/png": "[encoded data removed]",
            "text/plain": [
              "<Figure size 432x288 with 1 Axes>"
            ]
          },
          "metadata": {
            "tags": [],
            "needs_background": "light"
          }
        }
      ]
    },
    {
      "cell_type": "markdown",
      "metadata": {
        "id": "DxRHVmsBZeeo"
      },
      "source": [
        "#**Pairplot**"
      ]
    },
    {
      "cell_type": "code",
      "metadata": {
        "id": "9tr9QbhpZgqB"
      },
      "source": [
        "col1 = 'Mg'\n",
        "col2 = 'Fe'"
      ],
      "execution_count": null,
      "outputs": []
    },
    {
      "cell_type": "code",
      "metadata": {
        "colab": {
          "base_uri": "https://localhost:8080/",
          "height": 279
        },
        "id": "P3B-Zwc7Zid4",
        "outputId": "c2839acf-678e-4ec0-8ef5-3f3b06613db5"
      },
      "source": [
        "fig, ax = plt.subplots()\n",
        " \n",
        "ax.scatter(data[col1], data[col2])\n",
        "ax.set_xlabel(col1)\n",
        "ax.set_ylabel(col2)\n",
        " \n",
        "plt.show()"
      ],
      "execution_count": null,
      "outputs": [
        {
          "output_type": "display_data",
          "data": {
            "image/png": "[encoded data removed]",
            "text/plain": [
              "<Figure size 432x288 with 1 Axes>"
            ]
          },
          "metadata": {
            "tags": [],
            "needs_background": "light"
          }
        }
      ]
    },
    {
      "cell_type": "markdown",
      "metadata": {
        "id": "WnZVB3YjZnLL"
      },
      "source": [
        "**24.03.2021**"
      ]
    },
    {
      "cell_type": "markdown",
      "metadata": {
        "id": "8YKhJQGbZpy9"
      },
      "source": [
        "#**NaN**"
      ]
    },
    {
      "cell_type": "code",
      "metadata": {
        "colab": {
          "base_uri": "https://localhost:8080/"
        },
        "id": "AHuUcRuPZssl",
        "outputId": "2593afc3-02fa-44b8-de41-4c8a6ea919c9"
      },
      "source": [
        "data.mean()"
      ],
      "execution_count": null,
      "outputs": [
        {
          "output_type": "execute_result",
          "data": {
            "text/plain": [
              "RI     1.518473\n",
              "Na    13.404020\n",
              "Mg     2.695744\n",
              "Al     1.442769\n",
              "Si    72.661371\n",
              "K      0.495729\n",
              "Ca     8.911472\n",
              "Ba     0.160746\n",
              "Fe     0.056154\n",
              "dtype: float64"
            ]
          },
          "metadata": {
            "tags": []
          },
          "execution_count": 52
        }
      ]
    },
    {
      "cell_type": "code",
      "metadata": {
        "colab": {
          "base_uri": "https://localhost:8080/"
        },
        "id": "ZXLCe6v0Zurb",
        "outputId": "9444ab6a-0a6b-4c0c-9458-22ab68c2a4dd"
      },
      "source": [
        "data_fillna_mean = data.fillna(data.mean()).copy()\n",
        "data_fillna_mean.info()"
      ],
      "execution_count": null,
      "outputs": [
        {
          "output_type": "stream",
          "text": [
            "<class 'pandas.core.frame.DataFrame'>\n",
            "RangeIndex: 214 entries, 0 to 213\n",
            "Data columns (total 10 columns):\n",
            " #   Column  Non-Null Count  Dtype  \n",
            "---  ------  --------------  -----  \n",
            " 0   RI      214 non-null    float64\n",
            " 1   Na      214 non-null    float64\n",
            " 2   Mg      214 non-null    float64\n",
            " 3   Al      214 non-null    float64\n",
            " 4   Si      214 non-null    float64\n",
            " 5   K       214 non-null    float64\n",
            " 6   Ca      214 non-null    float64\n",
            " 7   Ba      214 non-null    float64\n",
            " 8   Fe      214 non-null    float64\n",
            " 9   Class   197 non-null    object \n",
            "dtypes: float64(9), object(1)\n",
            "memory usage: 16.8+ KB\n"
          ],
          "name": "stdout"
        }
      ]
    },
    {
      "cell_type": "code",
      "metadata": {
        "colab": {
          "base_uri": "https://localhost:8080/"
        },
        "id": "UBdn20zHZxF5",
        "outputId": "b732b4aa-0739-462c-f591-3730e4102957"
      },
      "source": [
        "data['Class'].value_counts()"
      ],
      "execution_count": null,
      "outputs": [
        {
          "output_type": "execute_result",
          "data": {
            "text/plain": [
              "building_non_float    70\n",
              "building_float        65\n",
              "headlamps             26\n",
              "vehicle_float         17\n",
              "containers            11\n",
              "tableware              8\n",
              "Name: Class, dtype: int64"
            ]
          },
          "metadata": {
            "tags": []
          },
          "execution_count": 54
        }
      ]
    },
    {
      "cell_type": "code",
      "metadata": {
        "colab": {
          "base_uri": "https://localhost:8080/",
          "height": 35
        },
        "id": "IYRtrWHOZz4E",
        "outputId": "a23f85a6-f343-4a44-b404-25e8f5775ade"
      },
      "source": [
        "data['Class'].value_counts().index.values[0]"
      ],
      "execution_count": null,
      "outputs": [
        {
          "output_type": "execute_result",
          "data": {
            "application/vnd.google.colaboratory.intrinsic+json": {
              "type": "string"
            },
            "text/plain": [
              "'building_non_float'"
            ]
          },
          "metadata": {
            "tags": []
          },
          "execution_count": 55
        }
      ]
    },
    {
      "cell_type": "code",
      "metadata": {
        "colab": {
          "base_uri": "https://localhost:8080/"
        },
        "id": "cj2G-1gUZ168",
        "outputId": "e08f66ad-9bb4-4ff7-e232-884e753b8108"
      },
      "source": [
        "data['Class'].mode()"
      ],
      "execution_count": null,
      "outputs": [
        {
          "output_type": "execute_result",
          "data": {
            "text/plain": [
              "0    building_non_float\n",
              "dtype: object"
            ]
          },
          "metadata": {
            "tags": []
          },
          "execution_count": 56
        }
      ]
    },
    {
      "cell_type": "code",
      "metadata": {
        "colab": {
          "base_uri": "https://localhost:8080/"
        },
        "id": "RfY1e6BQZ3w-",
        "outputId": "54f806bf-9652-4f43-c026-d757ce2a0f4a"
      },
      "source": [
        "data_fillna_mean['Class'].fillna(data['Class'].value_counts().index.values[0], inplace = True)\n",
        "data_fillna_mean.info()"
      ],
      "execution_count": null,
      "outputs": [
        {
          "output_type": "stream",
          "text": [
            "<class 'pandas.core.frame.DataFrame'>\n",
            "RangeIndex: 214 entries, 0 to 213\n",
            "Data columns (total 10 columns):\n",
            " #   Column  Non-Null Count  Dtype  \n",
            "---  ------  --------------  -----  \n",
            " 0   RI      214 non-null    float64\n",
            " 1   Na      214 non-null    float64\n",
            " 2   Mg      214 non-null    float64\n",
            " 3   Al      214 non-null    float64\n",
            " 4   Si      214 non-null    float64\n",
            " 5   K       214 non-null    float64\n",
            " 6   Ca      214 non-null    float64\n",
            " 7   Ba      214 non-null    float64\n",
            " 8   Fe      214 non-null    float64\n",
            " 9   Class   214 non-null    object \n",
            "dtypes: float64(9), object(1)\n",
            "memory usage: 16.8+ KB\n"
          ],
          "name": "stdout"
        }
      ]
    },
    {
      "cell_type": "markdown",
      "metadata": {
        "id": "zcim4KKMZ6OA"
      },
      "source": [
        "#**PCA**"
      ]
    },
    {
      "cell_type": "code",
      "metadata": {
        "id": "5VxN_hZmZ-wn"
      },
      "source": [
        "from sklearn.decomposition import PCA"
      ],
      "execution_count": null,
      "outputs": []
    },
    {
      "cell_type": "code",
      "metadata": {
        "colab": {
          "base_uri": "https://localhost:8080/"
        },
        "id": "vn8lsXcSaA_4",
        "outputId": "69b569ce-b941-4137-e255-556e5bba817a"
      },
      "source": [
        "pca = PCA()\n",
        "pca.fit(data_fillna_mean[data_fillna_mean.columns.values [data_fillna_mean.columns.values  != 'Class']] )"
      ],
      "execution_count": null,
      "outputs": [
        {
          "output_type": "execute_result",
          "data": {
            "text/plain": [
              "PCA(copy=True, iterated_power='auto', n_components=None, random_state=None,\n",
              "    svd_solver='auto', tol=0.0, whiten=False)"
            ]
          },
          "metadata": {
            "tags": []
          },
          "execution_count": 59
        }
      ]
    },
    {
      "cell_type": "code",
      "metadata": {
        "colab": {
          "base_uri": "https://localhost:8080/"
        },
        "id": "vuzpK967aDP9",
        "outputId": "15e7d2d7-1748-4fa2-d02a-57825010b7c3"
      },
      "source": [
        "print(pca.explained_variance_ratio_*100)"
      ],
      "execution_count": null,
      "outputs": [
        {
          "output_type": "stream",
          "text": [
            "[4.44638313e+01 2.65387431e+01 1.13877972e+01 9.96845983e+00\n",
            " 3.97793267e+00 1.77604462e+00 1.74701961e+00 1.40138130e-01\n",
            " 3.35787194e-05]\n"
          ],
          "name": "stdout"
        }
      ]
    },
    {
      "cell_type": "code",
      "metadata": {
        "colab": {
          "base_uri": "https://localhost:8080/",
          "height": 265
        },
        "id": "9B9VX4ZKaE8h",
        "outputId": "248bfa65-c7c8-42ce-b455-97e3169829e8"
      },
      "source": [
        "_, ax = plt.subplots()\n",
        "ax.plot(np.arange(1,10), pca.explained_variance_ratio_*100)\n",
        "plt.show()"
      ],
      "execution_count": null,
      "outputs": [
        {
          "output_type": "display_data",
          "data": {
            "image/png": "[encoded data removed]",
            "text/plain": [
              "<Figure size 432x288 with 1 Axes>"
            ]
          },
          "metadata": {
            "tags": [],
            "needs_background": "light"
          }
        }
      ]
    },
    {
      "cell_type": "code",
      "metadata": {
        "colab": {
          "base_uri": "https://localhost:8080/",
          "height": 204
        },
        "id": "Wc3ZJqhuaIWr",
        "outputId": "2dcf93d5-a062-49e4-8e2c-70b28d402b21"
      },
      "source": [
        "pcaData=pd.DataFrame(\n",
        "    pca.transform(data_fillna_mean[data_fillna_mean.columns.values[data_fillna_mean.columns.values != 'Class']]))\n",
        "pcaNames=[]\n",
        "for i in range(9):\n",
        "  pcaNames.append('pc'+str(i+1))\n",
        "pcaData.columns=pcaNames\n",
        "pcaData.head()"
      ],
      "execution_count": null,
      "outputs": [
        {
          "output_type": "execute_result",
          "data": {
            "text/html": [
              "<div>\n",
              "<style scoped>\n",
              "    .dataframe tbody tr th:only-of-type {\n",
              "        vertical-align: middle;\n",
              "    }\n",
              "\n",
              "    .dataframe tbody tr th {\n",
              "        vertical-align: top;\n",
              "    }\n",
              "\n",
              "    .dataframe thead th {\n",
              "        text-align: right;\n",
              "    }\n",
              "</style>\n",
              "<table border=\"1\" class=\"dataframe\">\n",
              "  <thead>\n",
              "    <tr style=\"text-align: right;\">\n",
              "      <th></th>\n",
              "      <th>pc1</th>\n",
              "      <th>pc2</th>\n",
              "      <th>pc3</th>\n",
              "      <th>pc4</th>\n",
              "      <th>pc5</th>\n",
              "      <th>pc6</th>\n",
              "      <th>pc7</th>\n",
              "      <th>pc8</th>\n",
              "      <th>pc9</th>\n",
              "    </tr>\n",
              "  </thead>\n",
              "  <tbody>\n",
              "    <tr>\n",
              "      <th>0</th>\n",
              "      <td>-1.454366</td>\n",
              "      <td>-0.956150</td>\n",
              "      <td>-1.113621</td>\n",
              "      <td>0.311271</td>\n",
              "      <td>-0.064504</td>\n",
              "      <td>-0.046205</td>\n",
              "      <td>-0.101276</td>\n",
              "      <td>-0.072115</td>\n",
              "      <td>-0.001586</td>\n",
              "    </tr>\n",
              "    <tr>\n",
              "      <th>1</th>\n",
              "      <td>-0.638815</td>\n",
              "      <td>0.735444</td>\n",
              "      <td>0.142547</td>\n",
              "      <td>-0.107784</td>\n",
              "      <td>-0.134915</td>\n",
              "      <td>-0.058491</td>\n",
              "      <td>0.451660</td>\n",
              "      <td>-0.062159</td>\n",
              "      <td>-0.000311</td>\n",
              "    </tr>\n",
              "    <tr>\n",
              "      <th>2</th>\n",
              "      <td>-1.318641</td>\n",
              "      <td>0.529791</td>\n",
              "      <td>0.006437</td>\n",
              "      <td>-0.357225</td>\n",
              "      <td>-0.080322</td>\n",
              "      <td>-0.155500</td>\n",
              "      <td>-0.056751</td>\n",
              "      <td>-0.049851</td>\n",
              "      <td>0.000099</td>\n",
              "    </tr>\n",
              "    <tr>\n",
              "      <th>3</th>\n",
              "      <td>-1.241134</td>\n",
              "      <td>-0.085752</td>\n",
              "      <td>0.044368</td>\n",
              "      <td>-0.014797</td>\n",
              "      <td>-0.058958</td>\n",
              "      <td>0.022765</td>\n",
              "      <td>0.080360</td>\n",
              "      <td>-0.066355</td>\n",
              "      <td>-0.000212</td>\n",
              "    </tr>\n",
              "    <tr>\n",
              "      <th>4</th>\n",
              "      <td>-1.267260</td>\n",
              "      <td>0.072189</td>\n",
              "      <td>0.034124</td>\n",
              "      <td>-0.079007</td>\n",
              "      <td>-0.057259</td>\n",
              "      <td>0.054443</td>\n",
              "      <td>0.155699</td>\n",
              "      <td>-0.065502</td>\n",
              "      <td>-0.000373</td>\n",
              "    </tr>\n",
              "  </tbody>\n",
              "</table>\n",
              "</div>"
            ],
            "text/plain": [
              "        pc1       pc2       pc3  ...       pc7       pc8       pc9\n",
              "0 -1.454366 -0.956150 -1.113621  ... -0.101276 -0.072115 -0.001586\n",
              "1 -0.638815  0.735444  0.142547  ...  0.451660 -0.062159 -0.000311\n",
              "2 -1.318641  0.529791  0.006437  ... -0.056751 -0.049851  0.000099\n",
              "3 -1.241134 -0.085752  0.044368  ...  0.080360 -0.066355 -0.000212\n",
              "4 -1.267260  0.072189  0.034124  ...  0.155699 -0.065502 -0.000373\n",
              "\n",
              "[5 rows x 9 columns]"
            ]
          },
          "metadata": {
            "tags": []
          },
          "execution_count": 62
        }
      ]
    },
    {
      "cell_type": "code",
      "metadata": {
        "colab": {
          "base_uri": "https://localhost:8080/",
          "height": 497
        },
        "id": "oHUnDbhmaK-e",
        "outputId": "0b146ce5-5e6f-41df-a957-7df1357fa26a"
      },
      "source": [
        "fig, ax = plt.subplots(figsize=(8,8))\n",
        "\n",
        "ax.scatter(pcaData['pc1'], pcaData['pc2'])\n",
        "ax.set_xlabel('pc1')\n",
        "ax.set_ylabel('pc2')\n",
        "\n",
        "plt.show()"
      ],
      "execution_count": null,
      "outputs": [
        {
          "output_type": "display_data",
          "data": {
            "image/png": "[encoded data removed]",
            "text/plain": [
              "<Figure size 576x576 with 1 Axes>"
            ]
          },
          "metadata": {
            "tags": [],
            "needs_background": "light"
          }
        }
      ]
    },
    {
      "cell_type": "code",
      "metadata": {
        "id": "Dj0pessHaNWf"
      },
      "source": [
        "pcaData['Class'] = data_fillna_mean['Class'].copy()"
      ],
      "execution_count": null,
      "outputs": []
    },
    {
      "cell_type": "code",
      "metadata": {
        "colab": {
          "base_uri": "https://localhost:8080/",
          "height": 497
        },
        "id": "vvi5uZsfaQLv",
        "outputId": "736eb72c-a55c-4949-c356-0f795e056d01"
      },
      "source": [
        "col1 = 'pc1'\n",
        "col2 = 'pc2'\n",
        "\n",
        "fig, ax = plt.subplots(figsize=(8,8))\n",
        "\n",
        "for glassType in pcaData['Class'].value_counts().index.values:\n",
        "  ax.scatter(pcaData[col1][ pcaData['Class']==glassType ],\n",
        "             pcaData[col2][ pcaData['Class']==glassType ],\n",
        "             label=glassType)\n",
        "\n",
        "ax.set_xlabel(col1)\n",
        "ax.set_ylabel(col2)\n",
        "ax.legend()\n",
        "\n",
        "plt.show()"
      ],
      "execution_count": null,
      "outputs": [
        {
          "output_type": "display_data",
          "data": {
            "image/png": "[encoded data removed]",
            "text/plain": [
              "<Figure size 576x576 with 1 Axes>"
            ]
          },
          "metadata": {
            "tags": [],
            "needs_background": "light"
          }
        }
      ]
    },
    {
      "cell_type": "code",
      "metadata": {
        "colab": {
          "base_uri": "https://localhost:8080/",
          "height": 466
        },
        "id": "nKqJe6VzaS04",
        "outputId": "075b8b94-d672-4a43-a70a-a6b8fac5861f"
      },
      "source": [
        "fig = plt.figure(figsize=(8,8))\n",
        "ax = plt.axes(projection='3d')\n",
        "\n",
        "ax.scatter(pcaData['pc1'], pcaData['pc2'], pcaData['pc3'])\n",
        "ax.set_xlabel('pc1', fontsize=16)\n",
        "ax.set_ylabel('pc2', fontsize=16)\n",
        "ax.set_zlabel('pc3', fontsize=16)\n",
        "\n",
        "plt.show()"
      ],
      "execution_count": null,
      "outputs": [
        {
          "output_type": "display_data",
          "data": {
            "image/png": "[encoded data removed]",
            "text/plain": [
              "<Figure size 576x576 with 1 Axes>"
            ]
          },
          "metadata": {
            "tags": [],
            "needs_background": "light"
          }
        }
      ]
    },
    {
      "cell_type": "code",
      "metadata": {
        "colab": {
          "base_uri": "https://localhost:8080/",
          "height": 466
        },
        "id": "h_B1FeM9aVSC",
        "outputId": "abdf81ae-8a63-426e-8551-daba45f24284"
      },
      "source": [
        "col1 = 'pc1'\n",
        "col2 = 'pc2'\n",
        "\n",
        "fig = plt.figure(figsize=(8,8))\n",
        "ax = plt.axes(projection='3d')\n",
        "\n",
        "for glassType in pcaData['Class'].value_counts().index.values:\n",
        "  ax.scatter(pcaData['pc1'][ pcaData['Class']==glassType ], \n",
        "             pcaData['pc2'][ pcaData['Class']==glassType ], \n",
        "             pcaData['pc3'][ pcaData['Class']==glassType ],\n",
        "             label=glassType)\n",
        "\n",
        "ax.set_xlabel('pc1', fontsize=16)\n",
        "ax.set_ylabel('pc2', fontsize=16)\n",
        "ax.set_zlabel('pc3', fontsize=16)\n",
        "ax.legend()\n",
        "\n",
        "plt.show()"
      ],
      "execution_count": null,
      "outputs": [
        {
          "output_type": "display_data",
          "data": {
            "image/png": "[encoded data removed]",
            "text/plain": [
              "<Figure size 576x576 with 1 Axes>"
            ]
          },
          "metadata": {
            "tags": [],
            "needs_background": "light"
          }
        }
      ]
    },
    {
      "cell_type": "markdown",
      "metadata": {
        "id": "ta8CB10EaYZi"
      },
      "source": [
        "**31.03.2021**"
      ]
    },
    {
      "cell_type": "markdown",
      "metadata": {
        "id": "GwWHx9twabAL"
      },
      "source": [
        "#**Корреляция**"
      ]
    },
    {
      "cell_type": "code",
      "metadata": {
        "colab": {
          "base_uri": "https://localhost:8080/",
          "height": 328
        },
        "id": "WMnGBBB4aerT",
        "outputId": "71e47ed7-3c3e-454c-81c4-10c27e3c3b5a"
      },
      "source": [
        "corr = data_fillna_mean.corr()\n",
        "corr"
      ],
      "execution_count": null,
      "outputs": [
        {
          "output_type": "execute_result",
          "data": {
            "text/html": [
              "<div>\n",
              "<style scoped>\n",
              "    .dataframe tbody tr th:only-of-type {\n",
              "        vertical-align: middle;\n",
              "    }\n",
              "\n",
              "    .dataframe tbody tr th {\n",
              "        vertical-align: top;\n",
              "    }\n",
              "\n",
              "    .dataframe thead th {\n",
              "        text-align: right;\n",
              "    }\n",
              "</style>\n",
              "<table border=\"1\" class=\"dataframe\">\n",
              "  <thead>\n",
              "    <tr style=\"text-align: right;\">\n",
              "      <th></th>\n",
              "      <th>RI</th>\n",
              "      <th>Na</th>\n",
              "      <th>Mg</th>\n",
              "      <th>Al</th>\n",
              "      <th>Si</th>\n",
              "      <th>K</th>\n",
              "      <th>Ca</th>\n",
              "      <th>Ba</th>\n",
              "      <th>Fe</th>\n",
              "    </tr>\n",
              "  </thead>\n",
              "  <tbody>\n",
              "    <tr>\n",
              "      <th>RI</th>\n",
              "      <td>1.000000</td>\n",
              "      <td>-0.200481</td>\n",
              "      <td>-0.152968</td>\n",
              "      <td>-0.332274</td>\n",
              "      <td>-0.573954</td>\n",
              "      <td>-0.253705</td>\n",
              "      <td>0.656848</td>\n",
              "      <td>0.065340</td>\n",
              "      <td>0.144927</td>\n",
              "    </tr>\n",
              "    <tr>\n",
              "      <th>Na</th>\n",
              "      <td>-0.200481</td>\n",
              "      <td>1.000000</td>\n",
              "      <td>-0.274223</td>\n",
              "      <td>0.158602</td>\n",
              "      <td>-0.040639</td>\n",
              "      <td>-0.255637</td>\n",
              "      <td>-0.276114</td>\n",
              "      <td>0.304981</td>\n",
              "      <td>-0.210863</td>\n",
              "    </tr>\n",
              "    <tr>\n",
              "      <th>Mg</th>\n",
              "      <td>-0.152968</td>\n",
              "      <td>-0.274223</td>\n",
              "      <td>1.000000</td>\n",
              "      <td>-0.431914</td>\n",
              "      <td>-0.165727</td>\n",
              "      <td>0.066820</td>\n",
              "      <td>-0.372829</td>\n",
              "      <td>-0.509610</td>\n",
              "      <td>0.122110</td>\n",
              "    </tr>\n",
              "    <tr>\n",
              "      <th>Al</th>\n",
              "      <td>-0.332274</td>\n",
              "      <td>0.158602</td>\n",
              "      <td>-0.431914</td>\n",
              "      <td>1.000000</td>\n",
              "      <td>-0.015613</td>\n",
              "      <td>0.334403</td>\n",
              "      <td>-0.257934</td>\n",
              "      <td>0.441225</td>\n",
              "      <td>-0.094358</td>\n",
              "    </tr>\n",
              "    <tr>\n",
              "      <th>Si</th>\n",
              "      <td>-0.573954</td>\n",
              "      <td>-0.040639</td>\n",
              "      <td>-0.165727</td>\n",
              "      <td>-0.015613</td>\n",
              "      <td>1.000000</td>\n",
              "      <td>-0.082586</td>\n",
              "      <td>-0.146287</td>\n",
              "      <td>-0.131985</td>\n",
              "      <td>-0.128553</td>\n",
              "    </tr>\n",
              "    <tr>\n",
              "      <th>K</th>\n",
              "      <td>-0.253705</td>\n",
              "      <td>-0.255637</td>\n",
              "      <td>0.066820</td>\n",
              "      <td>0.334403</td>\n",
              "      <td>-0.082586</td>\n",
              "      <td>1.000000</td>\n",
              "      <td>-0.250692</td>\n",
              "      <td>-0.071389</td>\n",
              "      <td>0.009354</td>\n",
              "    </tr>\n",
              "    <tr>\n",
              "      <th>Ca</th>\n",
              "      <td>0.656848</td>\n",
              "      <td>-0.276114</td>\n",
              "      <td>-0.372829</td>\n",
              "      <td>-0.257934</td>\n",
              "      <td>-0.146287</td>\n",
              "      <td>-0.250692</td>\n",
              "      <td>1.000000</td>\n",
              "      <td>-0.052508</td>\n",
              "      <td>0.057503</td>\n",
              "    </tr>\n",
              "    <tr>\n",
              "      <th>Ba</th>\n",
              "      <td>0.065340</td>\n",
              "      <td>0.304981</td>\n",
              "      <td>-0.509610</td>\n",
              "      <td>0.441225</td>\n",
              "      <td>-0.131985</td>\n",
              "      <td>-0.071389</td>\n",
              "      <td>-0.052508</td>\n",
              "      <td>1.000000</td>\n",
              "      <td>-0.051097</td>\n",
              "    </tr>\n",
              "    <tr>\n",
              "      <th>Fe</th>\n",
              "      <td>0.144927</td>\n",
              "      <td>-0.210863</td>\n",
              "      <td>0.122110</td>\n",
              "      <td>-0.094358</td>\n",
              "      <td>-0.128553</td>\n",
              "      <td>0.009354</td>\n",
              "      <td>0.057503</td>\n",
              "      <td>-0.051097</td>\n",
              "      <td>1.000000</td>\n",
              "    </tr>\n",
              "  </tbody>\n",
              "</table>\n",
              "</div>"
            ],
            "text/plain": [
              "          RI        Na        Mg  ...        Ca        Ba        Fe\n",
              "RI  1.000000 -0.200481 -0.152968  ...  0.656848  0.065340  0.144927\n",
              "Na -0.200481  1.000000 -0.274223  ... -0.276114  0.304981 -0.210863\n",
              "Mg -0.152968 -0.274223  1.000000  ... -0.372829 -0.509610  0.122110\n",
              "Al -0.332274  0.158602 -0.431914  ... -0.257934  0.441225 -0.094358\n",
              "Si -0.573954 -0.040639 -0.165727  ... -0.146287 -0.131985 -0.128553\n",
              "K  -0.253705 -0.255637  0.066820  ... -0.250692 -0.071389  0.009354\n",
              "Ca  0.656848 -0.276114 -0.372829  ...  1.000000 -0.052508  0.057503\n",
              "Ba  0.065340  0.304981 -0.509610  ... -0.052508  1.000000 -0.051097\n",
              "Fe  0.144927 -0.210863  0.122110  ...  0.057503 -0.051097  1.000000\n",
              "\n",
              "[9 rows x 9 columns]"
            ]
          },
          "metadata": {
            "tags": []
          },
          "execution_count": 68
        }
      ]
    },
    {
      "cell_type": "code",
      "metadata": {
        "colab": {
          "base_uri": "https://localhost:8080/",
          "height": 633
        },
        "id": "nin3n3lkahLh",
        "outputId": "7053fcde-3a2e-4269-86b6-0d4561616f05"
      },
      "source": [
        "plt.figure(figsize=(12,10 ))\n",
        "ax = sns.heatmap(corr, annot=True, vmax=1, vmin=-1, cmap='gist_rainbow')\n",
        "ax.set_title('Корреляции вещественных переменных', fontsize=25)\n",
        "plt.show"
      ],
      "execution_count": null,
      "outputs": [
        {
          "output_type": "execute_result",
          "data": {
            "text/plain": [
              "<function matplotlib.pyplot.show>"
            ]
          },
          "metadata": {
            "tags": []
          },
          "execution_count": 69
        },
        {
          "output_type": "display_data",
          "data": {
            "image/png": "[encoded data removed]",
            "text/plain": [
              "<Figure size 864x720 with 2 Axes>"
            ]
          },
          "metadata": {
            "tags": [],
            "needs_background": "light"
          }
        }
      ]
    },
    {
      "cell_type": "code",
      "metadata": {
        "colab": {
          "base_uri": "https://localhost:8080/",
          "height": 633
        },
        "id": "wc8nfIgga228",
        "outputId": "017764e1-93d9-4eaa-c6c4-4a1d48faf54a"
      },
      "source": [
        "plt.figure (figsize=(12,10))\n",
        "ax = sns.heatmap (corr[(corr >= 0.75)|(corr <=-0.75)], annot=True, vmax=1, vmin=-1, cmap='gist_rainbow')\n",
        "ax.set_title('Сильная корреляция', fontsize=25)\n",
        "plt.show"
      ],
      "execution_count": null,
      "outputs": [
        {
          "output_type": "execute_result",
          "data": {
            "text/plain": [
              "<function matplotlib.pyplot.show>"
            ]
          },
          "metadata": {
            "tags": []
          },
          "execution_count": 70
        },
        {
          "output_type": "display_data",
          "data": {
            "image/png": "[encoded data removed]",
            "text/plain": [
              "<Figure size 864x720 with 2 Axes>"
            ]
          },
          "metadata": {
            "tags": [],
            "needs_background": "light"
          }
        }
      ]
    },
    {
      "cell_type": "code",
      "metadata": {
        "colab": {
          "base_uri": "https://localhost:8080/",
          "height": 633
        },
        "id": "kVIl-Duha8sa",
        "outputId": "cebdb1e7-6993-4934-8866-a1c963b62241"
      },
      "source": [
        "plt.figure (figsize=(12,10))\n",
        "ax = sns.heatmap (corr[(corr >= 0.75)|(corr <=-0.75)], annot=True, vmax=1, vmin=-1, cmap='gist_rainbow')\n",
        "ax.set_title('Сильная корреляция', fontsize=25)\n",
        "plt.show"
      ],
      "execution_count": null,
      "outputs": [
        {
          "output_type": "execute_result",
          "data": {
            "text/plain": [
              "<function matplotlib.pyplot.show>"
            ]
          },
          "metadata": {
            "tags": []
          },
          "execution_count": 71
        },
        {
          "output_type": "display_data",
          "data": {
            "image/png": "[encoded data removed]",
            "text/plain": [
              "<Figure size 864x720 with 2 Axes>"
            ]
          },
          "metadata": {
            "tags": [],
            "needs_background": "light"
          }
        }
      ]
    },
    {
      "cell_type": "markdown",
      "metadata": {
        "id": "uwR80sHQbBiW"
      },
      "source": [
        "#**Feature importance**"
      ]
    },
    {
      "cell_type": "code",
      "metadata": {
        "id": "zFiz2gZIbFJG"
      },
      "source": [
        "import sklearn.preprocessing as prepro\n",
        "from sklearn.ensemble import ExtraTreesClassifier"
      ],
      "execution_count": null,
      "outputs": []
    },
    {
      "cell_type": "code",
      "metadata": {
        "id": "Z5D-_I2NbHMc"
      },
      "source": [
        "forest = ExtraTreesClassifier(n_estimators=100)"
      ],
      "execution_count": null,
      "outputs": []
    },
    {
      "cell_type": "code",
      "metadata": {
        "colab": {
          "base_uri": "https://localhost:8080/"
        },
        "id": "InpvJ7cPbJ0U",
        "outputId": "791177ec-ef56-4f9d-bea6-8d625feb3e59"
      },
      "source": [
        "#  forest.fit(x,y)\n",
        "forest.fit(\n",
        "    data_fillna_mean[ data_fillna_mean.columns.values[data_fillna_mean.columns.values!='Class'] ], \n",
        "    data_fillna_mean['Class']\n",
        "    )"
      ],
      "execution_count": null,
      "outputs": [
        {
          "output_type": "execute_result",
          "data": {
            "text/plain": [
              "ExtraTreesClassifier(bootstrap=False, ccp_alpha=0.0, class_weight=None,\n",
              "                     criterion='gini', max_depth=None, max_features='auto',\n",
              "                     max_leaf_nodes=None, max_samples=None,\n",
              "                     min_impurity_decrease=0.0, min_impurity_split=None,\n",
              "                     min_samples_leaf=1, min_samples_split=2,\n",
              "                     min_weight_fraction_leaf=0.0, n_estimators=100,\n",
              "                     n_jobs=None, oob_score=False, random_state=None, verbose=0,\n",
              "                     warm_start=False)"
            ]
          },
          "metadata": {
            "tags": []
          },
          "execution_count": 74
        }
      ]
    },
    {
      "cell_type": "code",
      "metadata": {
        "colab": {
          "base_uri": "https://localhost:8080/"
        },
        "id": "1KzF6Mx5bL2h",
        "outputId": "7408479e-ca91-4b33-a6e6-9eece99d07cf"
      },
      "source": [
        "importance = forest.feature_importances_\n",
        "importance"
      ],
      "execution_count": null,
      "outputs": [
        {
          "output_type": "execute_result",
          "data": {
            "text/plain": [
              "array([0.15018679, 0.10885744, 0.16108378, 0.14167257, 0.08585825,\n",
              "       0.10271049, 0.12389061, 0.07149464, 0.05424542])"
            ]
          },
          "metadata": {
            "tags": []
          },
          "execution_count": 75
        }
      ]
    },
    {
      "cell_type": "code",
      "metadata": {
        "colab": {
          "base_uri": "https://localhost:8080/"
        },
        "id": "Af_qZO4XbOVO",
        "outputId": "cb8feda9-3ac3-473f-acc6-484ccb2bb4ef"
      },
      "source": [
        "np.sort(importance)[:: -1]"
      ],
      "execution_count": null,
      "outputs": [
        {
          "output_type": "execute_result",
          "data": {
            "text/plain": [
              "array([0.16108378, 0.15018679, 0.14167257, 0.12389061, 0.10885744,\n",
              "       0.10271049, 0.08585825, 0.07149464, 0.05424542])"
            ]
          },
          "metadata": {
            "tags": []
          },
          "execution_count": 76
        }
      ]
    },
    {
      "cell_type": "code",
      "metadata": {
        "colab": {
          "base_uri": "https://localhost:8080/"
        },
        "id": "noDnWNRYbQNw",
        "outputId": "b3c957de-5248-432d-d9eb-9019a7a2e123"
      },
      "source": [
        "indices = np.argsort(importance)[::-1]\n",
        "indices"
      ],
      "execution_count": null,
      "outputs": [
        {
          "output_type": "execute_result",
          "data": {
            "text/plain": [
              "array([2, 0, 3, 6, 1, 5, 4, 7, 8])"
            ]
          },
          "metadata": {
            "tags": []
          },
          "execution_count": 77
        }
      ]
    },
    {
      "cell_type": "code",
      "metadata": {
        "colab": {
          "base_uri": "https://localhost:8080/"
        },
        "id": "i6nz9RFubSdF",
        "outputId": "89075c5d-9c8f-48fa-95d4-4f38e4526d51"
      },
      "source": [
        "# Print the feature ranking\n",
        "print(\"Feature ranking:\")\n",
        "\n",
        "for f in range(9):\n",
        "    print(\"%d. feature %s (%f)\" % (f + 1, data_fillna_mean.columns.values[indices[f]], importance[indices[f]]))"
      ],
      "execution_count": null,
      "outputs": [
        {
          "output_type": "stream",
          "text": [
            "Feature ranking:\n",
            "1. feature Mg (0.161084)\n",
            "2. feature RI (0.150187)\n",
            "3. feature Al (0.141673)\n",
            "4. feature Ca (0.123891)\n",
            "5. feature Na (0.108857)\n",
            "6. feature K (0.102710)\n",
            "7. feature Si (0.085858)\n",
            "8. feature Ba (0.071495)\n",
            "9. feature Fe (0.054245)\n"
          ],
          "name": "stdout"
        }
      ]
    },
    {
      "cell_type": "code",
      "metadata": {
        "colab": {
          "base_uri": "https://localhost:8080/"
        },
        "id": "uVT1gDpkbUfO",
        "outputId": "e8526631-2a8d-4da7-b03a-48402aa64943"
      },
      "source": [
        "std = np.std( [tree.feature_importances_ for tree in forest.estimators_], axis=0)\n",
        "std"
      ],
      "execution_count": null,
      "outputs": [
        {
          "output_type": "execute_result",
          "data": {
            "text/plain": [
              "array([0.03449236, 0.03703081, 0.04029742, 0.04599247, 0.02389041,\n",
              "       0.03068278, 0.03313164, 0.03580331, 0.01796881])"
            ]
          },
          "metadata": {
            "tags": []
          },
          "execution_count": 79
        }
      ]
    },
    {
      "cell_type": "code",
      "metadata": {
        "colab": {
          "base_uri": "https://localhost:8080/",
          "height": 336
        },
        "id": "kTnUttCfbWXF",
        "outputId": "01711d67-d716-49b3-92ee-f1b3c34c54c2"
      },
      "source": [
        "fig, ax = plt.subplots(figsize=(10,5))\n",
        "ax.set_title('Столбцы')\n",
        "ax.bar(data_fillna_mean.columns.values[indices], importance[indices], color=\"b\", yerr=std[indices], align=\"center\")\n",
        "\n",
        "plt.show()"
      ],
      "execution_count": null,
      "outputs": [
        {
          "output_type": "display_data",
          "data": {
            "image/png": "[encoded data removed]",
            "text/plain": [
              "<Figure size 720x360 with 1 Axes>"
            ]
          },
          "metadata": {
            "tags": [],
            "needs_background": "light"
          }
        }
      ]
    },
    {
      "cell_type": "markdown",
      "metadata": {
        "id": "Wo0O6td1bagf"
      },
      "source": [
        "#**Задание**"
      ]
    },
    {
      "cell_type": "markdown",
      "metadata": {
        "id": "y5ccyrFmbdcx"
      },
      "source": [
        "1) сделать виджет для выбора переменной. Для выбранной переменной строиться гистограмма, если переменная числовая или столбчатая диаграмма, если переменная категориальная.\n",
        "\n",
        "2) сделать виджет для выбора переменной. Для выбранной переменной строиться диаграмма \"ящик с усами\".\n",
        "\n",
        "3) сделать виджет для выбора пары переменных, для них строится парный график с раскраской точек по классам."
      ]
    },
    {
      "cell_type": "markdown",
      "metadata": {
        "id": "ALg1CG8wbfPp"
      },
      "source": [
        "#**1**"
      ]
    },
    {
      "cell_type": "code",
      "metadata": {
        "colab": {
          "base_uri": "https://localhost:8080/",
          "height": 304
        },
        "id": "eiYh-N3fbkJJ",
        "outputId": "e854a261-edbe-47e6-cb88-97b586f150ac"
      },
      "source": [
        "#@title Выбор переменной\n",
        "#@markdown ---\n",
        "Variable = \"Ba\" #@param [\"Id\", \"RI\", \"Na\", \"Mg\", \"Al\", \"Si\", \"K\", \"Ca\", \"Ba\", \"Fe\", \"Class\"]\n",
        "#@markdown ---\n",
        "if  Variable == 'Class':\n",
        "    col = Variable\n",
        "    fig, ax = plt.subplots(figsize=(12,6))\n",
        "    ax.bar(data[col].value_counts().index.values, \n",
        "        data[col].value_counts().values)\n",
        "    ax.set_xlabel(None, fontsize=16)\n",
        "    ax.set_title('Barplot для '+str(col), fontsize=16)\n",
        "    ax.tick_params(axis='x', which='major', labelsize=14, rotation=35)\n",
        "    plt.show()\n",
        "else:\n",
        "    col = Variable\n",
        "    fig, ax = plt.subplots()\n",
        "    ax.hist(data[col], bins=20)\n",
        "    ax.set_xlabel(col, fontsize=16)\n",
        "    ax.set_title(\"Гистограмма для  \" + str(col), fontsize=18)\n",
        "    plt.show()"
      ],
      "execution_count": null,
      "outputs": [
        {
          "output_type": "display_data",
          "data": {
            "image/png": "[encoded data removed]",
            "text/plain": [
              "<Figure size 432x288 with 1 Axes>"
            ]
          },
          "metadata": {
            "tags": [],
            "needs_background": "light"
          }
        }
      ]
    },
    {
      "cell_type": "markdown",
      "metadata": {
        "id": "M_WYYDDyb0KC"
      },
      "source": [
        "#**2**"
      ]
    },
    {
      "cell_type": "code",
      "metadata": {
        "colab": {
          "base_uri": "https://localhost:8080/",
          "height": 279
        },
        "id": "7AMQbcgEbsaQ",
        "outputId": "4fe97b6b-057d-47f1-9397-a0f596cd4347"
      },
      "source": [
        "#@title Выбор переменной\n",
        "#@markdown ---\n",
        "Variable = \"Mg\" #@param [\"Id\", \"RI\", \"Na\", \"Mg\", \"Al\", \"Si\", \"K\", \"Ca\", \"Ba\", \"Fe\"]\n",
        "#@markdown ---\n",
        "sns.boxplot(data=data, x=Variable)\n",
        "plt.show()"
      ],
      "execution_count": null,
      "outputs": [
        {
          "output_type": "display_data",
          "data": {
            "image/png": "[encoded data removed]",
            "text/plain": [
              "<Figure size 432x288 with 1 Axes>"
            ]
          },
          "metadata": {
            "tags": [],
            "needs_background": "light"
          }
        }
      ]
    },
    {
      "cell_type": "markdown",
      "metadata": {
        "id": "Vw5rlNtWb8Zg"
      },
      "source": [
        "#**3**"
      ]
    },
    {
      "cell_type": "code",
      "metadata": {
        "id": "AgGoMyZYb-4t",
        "colab": {
          "base_uri": "https://localhost:8080/",
          "height": 279
        },
        "outputId": "be6fac97-c11e-40b2-e713-a112a016d3f3"
      },
      "source": [
        "#@title Выбор переменной\n",
        "#@markdown ---\n",
        "Variable1 = \"Si\" #@param [\"Id\", \"RI\", \"Na\", \"Mg\", \"Al\", \"Si\", \"K\", \"Ca\", \"Ba\", \"Fe\"]\n",
        "Variable2 = \"K\" #@param [\"Id\", \"RI\", \"Na\", \"Mg\", \"Al\", \"Si\", \"K\", \"Ca\", \"Ba\", \"Fe\"]\n",
        "#@markdown --- \n",
        " \n",
        "fig, ax = plt.subplots()\n",
        " \n",
        "for glassType in data['Class'].value_counts().index.values:\n",
        "  ax.scatter(data[Variable1][ data['Class']==glassType ],\n",
        "             data[Variable2][ data['Class']==glassType ],\n",
        "             label=glassType)\n",
        " \n",
        "ax.set_xlabel(Variable1)\n",
        "ax.set_ylabel(Variable2)\n",
        "ax.legend()\n",
        " \n",
        "plt.show()"
      ],
      "execution_count": null,
      "outputs": [
        {
          "output_type": "display_data",
          "data": {
            "image/png": "[encoded data removed]",
            "text/plain": [
              "<Figure size 432x288 with 1 Axes>"
            ]
          },
          "metadata": {
            "tags": [],
            "needs_background": "light"
          }
        }
      ]
    },
    {
      "cell_type": "markdown",
      "metadata": {
        "id": "hNrq2FtCZ-Zo"
      },
      "source": [
        "#**Домашняя работа**"
      ]
    },
    {
      "cell_type": "code",
      "metadata": {
        "id": "kzHwhJwoaCc9"
      },
      "source": [
        "from sklearn.decomposition import PCA"
      ],
      "execution_count": null,
      "outputs": []
    },
    {
      "cell_type": "code",
      "metadata": {
        "colab": {
          "base_uri": "https://localhost:8080/"
        },
        "id": "CadaiHudaEbK",
        "outputId": "36d70db1-3784-4227-f8b8-993a105fbbe9"
      },
      "source": [
        "pca = PCA()\n",
        "pca.fit( data_fillna_mean[data_fillna_mean.columns.values[data_fillna_mean.columns.values != 'Class']] )"
      ],
      "execution_count": null,
      "outputs": [
        {
          "output_type": "execute_result",
          "data": {
            "text/plain": [
              "PCA(copy=True, iterated_power='auto', n_components=None, random_state=None,\n",
              "    svd_solver='auto', tol=0.0, whiten=False)"
            ]
          },
          "metadata": {
            "tags": []
          },
          "execution_count": 85
        }
      ]
    },
    {
      "cell_type": "code",
      "metadata": {
        "colab": {
          "base_uri": "https://localhost:8080/"
        },
        "id": "2jenmGL6aGTA",
        "outputId": "8cd93fb9-5dff-46f5-9fa9-4acfeb02d365"
      },
      "source": [
        "print(pca.explained_variance_ratio_*100)"
      ],
      "execution_count": null,
      "outputs": [
        {
          "output_type": "stream",
          "text": [
            "[4.44638313e+01 2.65387431e+01 1.13877972e+01 9.96845983e+00\n",
            " 3.97793267e+00 1.77604462e+00 1.74701961e+00 1.40138130e-01\n",
            " 3.35787194e-05]\n"
          ],
          "name": "stdout"
        }
      ]
    },
    {
      "cell_type": "code",
      "metadata": {
        "colab": {
          "base_uri": "https://localhost:8080/",
          "height": 265
        },
        "id": "3W9VYc4faJkR",
        "outputId": "f6254823-e83d-4191-b749-4c5da1d334c0"
      },
      "source": [
        "_, ax = plt.subplots()\n",
        "ax.plot(np.arange(1,10),pca.explained_variance_ratio_*100)\n",
        "plt.show()"
      ],
      "execution_count": null,
      "outputs": [
        {
          "output_type": "display_data",
          "data": {
            "image/png": "[encoded data removed]",
            "text/plain": [
              "<Figure size 432x288 with 1 Axes>"
            ]
          },
          "metadata": {
            "tags": [],
            "needs_background": "light"
          }
        }
      ]
    },
    {
      "cell_type": "code",
      "metadata": {
        "id": "Fe5MpDNraLf7"
      },
      "source": [
        "pcaData['Class'] = data_fillna_mean['Class'].copy()"
      ],
      "execution_count": null,
      "outputs": []
    },
    {
      "cell_type": "code",
      "metadata": {
        "colab": {
          "base_uri": "https://localhost:8080/",
          "height": 497
        },
        "id": "sPn6A-PRaNpS",
        "outputId": "c75bbed0-af00-4bb5-c69d-f4e32ffc9ae9"
      },
      "source": [
        "col1 = 'pc1'\n",
        "col2 = 'pc2'\n",
        "\n",
        "fig, ax = plt.subplots(figsize=(8,8))\n",
        "\n",
        "for glassType in pcaData['Class'].value_counts().index.values:\n",
        "  ax.scatter(pcaData[col1][ pcaData['Class']==glassType ],\n",
        "             pcaData[col2][ pcaData['Class']==glassType ],\n",
        "             label=glassType)\n",
        "\n",
        "ax.set_xlabel(col1)\n",
        "ax.set_ylabel(col2)\n",
        "ax.legend()\n",
        "\n",
        "plt.show()"
      ],
      "execution_count": null,
      "outputs": [
        {
          "output_type": "display_data",
          "data": {
            "image/png": "[encoded data removed]",
            "text/plain": [
              "<Figure size 576x576 with 1 Axes>"
            ]
          },
          "metadata": {
            "tags": [],
            "needs_background": "light"
          }
        }
      ]
    },
    {
      "cell_type": "code",
      "metadata": {
        "colab": {
          "base_uri": "https://localhost:8080/",
          "height": 466
        },
        "id": "hKe0KE_FaP1x",
        "outputId": "ca4b1c94-0b8a-49d4-85c2-df0ff4205be5"
      },
      "source": [
        "col1 = 'pc1'\n",
        "col2 = 'pc2'\n",
        "\n",
        "fig = plt.figure(figsize=(8,8))\n",
        "ax = plt.axes(projection='3d')\n",
        "\n",
        "for glassType in pcaData['Class'].value_counts().index.values:\n",
        "  ax.scatter(pcaData['pc1'][ pcaData['Class']==glassType ], \n",
        "             pcaData['pc2'][ pcaData['Class']==glassType ], \n",
        "             pcaData['pc3'][ pcaData['Class']==glassType ],\n",
        "             label=glassType)\n",
        "\n",
        "ax.set_xlabel('pc1', fontsize=16)\n",
        "ax.set_ylabel('pc2', fontsize=16)\n",
        "ax.set_zlabel('pc3', fontsize=16)\n",
        "ax.legend()\n",
        "\n",
        "plt.show()"
      ],
      "execution_count": null,
      "outputs": [
        {
          "output_type": "display_data",
          "data": {
            "image/png": "[encoded data removed]",
            "text/plain": [
              "<Figure size 576x576 with 1 Axes>"
            ]
          },
          "metadata": {
            "tags": [],
            "needs_background": "light"
          }
        }
      ]
    },
    {
      "cell_type": "code",
      "metadata": {
        "colab": {
          "base_uri": "https://localhost:8080/",
          "height": 328
        },
        "id": "LPl16QPtaSHP",
        "outputId": "0a7fcf01-0f57-4a3d-a706-26c38de03710"
      },
      "source": [
        "corr = data_fillna_mean.corr()\n",
        "corr"
      ],
      "execution_count": null,
      "outputs": [
        {
          "output_type": "execute_result",
          "data": {
            "text/html": [
              "<div>\n",
              "<style scoped>\n",
              "    .dataframe tbody tr th:only-of-type {\n",
              "        vertical-align: middle;\n",
              "    }\n",
              "\n",
              "    .dataframe tbody tr th {\n",
              "        vertical-align: top;\n",
              "    }\n",
              "\n",
              "    .dataframe thead th {\n",
              "        text-align: right;\n",
              "    }\n",
              "</style>\n",
              "<table border=\"1\" class=\"dataframe\">\n",
              "  <thead>\n",
              "    <tr style=\"text-align: right;\">\n",
              "      <th></th>\n",
              "      <th>RI</th>\n",
              "      <th>Na</th>\n",
              "      <th>Mg</th>\n",
              "      <th>Al</th>\n",
              "      <th>Si</th>\n",
              "      <th>K</th>\n",
              "      <th>Ca</th>\n",
              "      <th>Ba</th>\n",
              "      <th>Fe</th>\n",
              "    </tr>\n",
              "  </thead>\n",
              "  <tbody>\n",
              "    <tr>\n",
              "      <th>RI</th>\n",
              "      <td>1.000000</td>\n",
              "      <td>-0.200481</td>\n",
              "      <td>-0.152968</td>\n",
              "      <td>-0.332274</td>\n",
              "      <td>-0.573954</td>\n",
              "      <td>-0.253705</td>\n",
              "      <td>0.656848</td>\n",
              "      <td>0.065340</td>\n",
              "      <td>0.144927</td>\n",
              "    </tr>\n",
              "    <tr>\n",
              "      <th>Na</th>\n",
              "      <td>-0.200481</td>\n",
              "      <td>1.000000</td>\n",
              "      <td>-0.274223</td>\n",
              "      <td>0.158602</td>\n",
              "      <td>-0.040639</td>\n",
              "      <td>-0.255637</td>\n",
              "      <td>-0.276114</td>\n",
              "      <td>0.304981</td>\n",
              "      <td>-0.210863</td>\n",
              "    </tr>\n",
              "    <tr>\n",
              "      <th>Mg</th>\n",
              "      <td>-0.152968</td>\n",
              "      <td>-0.274223</td>\n",
              "      <td>1.000000</td>\n",
              "      <td>-0.431914</td>\n",
              "      <td>-0.165727</td>\n",
              "      <td>0.066820</td>\n",
              "      <td>-0.372829</td>\n",
              "      <td>-0.509610</td>\n",
              "      <td>0.122110</td>\n",
              "    </tr>\n",
              "    <tr>\n",
              "      <th>Al</th>\n",
              "      <td>-0.332274</td>\n",
              "      <td>0.158602</td>\n",
              "      <td>-0.431914</td>\n",
              "      <td>1.000000</td>\n",
              "      <td>-0.015613</td>\n",
              "      <td>0.334403</td>\n",
              "      <td>-0.257934</td>\n",
              "      <td>0.441225</td>\n",
              "      <td>-0.094358</td>\n",
              "    </tr>\n",
              "    <tr>\n",
              "      <th>Si</th>\n",
              "      <td>-0.573954</td>\n",
              "      <td>-0.040639</td>\n",
              "      <td>-0.165727</td>\n",
              "      <td>-0.015613</td>\n",
              "      <td>1.000000</td>\n",
              "      <td>-0.082586</td>\n",
              "      <td>-0.146287</td>\n",
              "      <td>-0.131985</td>\n",
              "      <td>-0.128553</td>\n",
              "    </tr>\n",
              "    <tr>\n",
              "      <th>K</th>\n",
              "      <td>-0.253705</td>\n",
              "      <td>-0.255637</td>\n",
              "      <td>0.066820</td>\n",
              "      <td>0.334403</td>\n",
              "      <td>-0.082586</td>\n",
              "      <td>1.000000</td>\n",
              "      <td>-0.250692</td>\n",
              "      <td>-0.071389</td>\n",
              "      <td>0.009354</td>\n",
              "    </tr>\n",
              "    <tr>\n",
              "      <th>Ca</th>\n",
              "      <td>0.656848</td>\n",
              "      <td>-0.276114</td>\n",
              "      <td>-0.372829</td>\n",
              "      <td>-0.257934</td>\n",
              "      <td>-0.146287</td>\n",
              "      <td>-0.250692</td>\n",
              "      <td>1.000000</td>\n",
              "      <td>-0.052508</td>\n",
              "      <td>0.057503</td>\n",
              "    </tr>\n",
              "    <tr>\n",
              "      <th>Ba</th>\n",
              "      <td>0.065340</td>\n",
              "      <td>0.304981</td>\n",
              "      <td>-0.509610</td>\n",
              "      <td>0.441225</td>\n",
              "      <td>-0.131985</td>\n",
              "      <td>-0.071389</td>\n",
              "      <td>-0.052508</td>\n",
              "      <td>1.000000</td>\n",
              "      <td>-0.051097</td>\n",
              "    </tr>\n",
              "    <tr>\n",
              "      <th>Fe</th>\n",
              "      <td>0.144927</td>\n",
              "      <td>-0.210863</td>\n",
              "      <td>0.122110</td>\n",
              "      <td>-0.094358</td>\n",
              "      <td>-0.128553</td>\n",
              "      <td>0.009354</td>\n",
              "      <td>0.057503</td>\n",
              "      <td>-0.051097</td>\n",
              "      <td>1.000000</td>\n",
              "    </tr>\n",
              "  </tbody>\n",
              "</table>\n",
              "</div>"
            ],
            "text/plain": [
              "          RI        Na        Mg  ...        Ca        Ba        Fe\n",
              "RI  1.000000 -0.200481 -0.152968  ...  0.656848  0.065340  0.144927\n",
              "Na -0.200481  1.000000 -0.274223  ... -0.276114  0.304981 -0.210863\n",
              "Mg -0.152968 -0.274223  1.000000  ... -0.372829 -0.509610  0.122110\n",
              "Al -0.332274  0.158602 -0.431914  ... -0.257934  0.441225 -0.094358\n",
              "Si -0.573954 -0.040639 -0.165727  ... -0.146287 -0.131985 -0.128553\n",
              "K  -0.253705 -0.255637  0.066820  ... -0.250692 -0.071389  0.009354\n",
              "Ca  0.656848 -0.276114 -0.372829  ...  1.000000 -0.052508  0.057503\n",
              "Ba  0.065340  0.304981 -0.509610  ... -0.052508  1.000000 -0.051097\n",
              "Fe  0.144927 -0.210863  0.122110  ...  0.057503 -0.051097  1.000000\n",
              "\n",
              "[9 rows x 9 columns]"
            ]
          },
          "metadata": {
            "tags": []
          },
          "execution_count": 91
        }
      ]
    },
    {
      "cell_type": "code",
      "metadata": {
        "colab": {
          "base_uri": "https://localhost:8080/",
          "height": 611
        },
        "id": "VEhhmFfdaUM2",
        "outputId": "0eb5af7b-d9cf-4b30-da7f-5d09428b25e1"
      },
      "source": [
        "plt.figure(figsize=(12, 10))\n",
        "\n",
        "ax = sns.heatmap(corr, annot=True, vmax=1, vmin=-1, cmap='gist_rainbow')\n",
        "\n",
        "ax.set_title('Корреляции вещественных переменных', fontsize=18)\n",
        "\n",
        "plt.show()"
      ],
      "execution_count": null,
      "outputs": [
        {
          "output_type": "display_data",
          "data": {
            "image/png": "[encoded data removed]",
            "text/plain": [
              "<Figure size 864x720 with 2 Axes>"
            ]
          },
          "metadata": {
            "tags": [],
            "needs_background": "light"
          }
        }
      ]
    },
    {
      "cell_type": "code",
      "metadata": {
        "colab": {
          "base_uri": "https://localhost:8080/",
          "height": 633
        },
        "id": "d0hRFPvYaexC",
        "outputId": "f689a144-2791-4f5d-dc39-a07c7e95e91e"
      },
      "source": [
        "plt.figure (figsize=(12,10))\n",
        "ax = sns.heatmap (corr[(corr >= 0.75)|(corr <=-0.75)], annot=True, vmax=1, vmin=-1, cmap='gist_rainbow')\n",
        "ax.set_title('Сильная корреляция', fontsize=25)\n",
        "plt.show"
      ],
      "execution_count": null,
      "outputs": [
        {
          "output_type": "execute_result",
          "data": {
            "text/plain": [
              "<function matplotlib.pyplot.show>"
            ]
          },
          "metadata": {
            "tags": []
          },
          "execution_count": 94
        },
        {
          "output_type": "display_data",
          "data": {
            "image/png": "[encoded data removed]",
            "text/plain": [
              "<Figure size 864x720 with 2 Axes>"
            ]
          },
          "metadata": {
            "tags": [],
            "needs_background": "light"
          }
        }
      ]
    },
    {
      "cell_type": "code",
      "metadata": {
        "colab": {
          "base_uri": "https://localhost:8080/",
          "height": 633
        },
        "id": "5TI7q3DMaizw",
        "outputId": "fbb39dcb-fb6d-46f3-e0ff-db26e0bae05c"
      },
      "source": [
        "plt.figure (figsize=(12,10))\n",
        "ax = sns.heatmap (corr[(corr<=0.75)&(corr>=0.45)|(corr<=-0.45)&(corr>=-0.75)], annot=True, vmax=1, vmin=-1, cmap='gist_rainbow')\n",
        "ax.set_title('Средняя корреляция', fontsize=25)\n",
        "plt.show"
      ],
      "execution_count": null,
      "outputs": [
        {
          "output_type": "execute_result",
          "data": {
            "text/plain": [
              "<function matplotlib.pyplot.show>"
            ]
          },
          "metadata": {
            "tags": []
          },
          "execution_count": 95
        },
        {
          "output_type": "display_data",
          "data": {
            "image/png": "[encoded data removed]",
            "text/plain": [
              "<Figure size 864x720 with 2 Axes>"
            ]
          },
          "metadata": {
            "tags": [],
            "needs_background": "light"
          }
        }
      ]
    },
    {
      "cell_type": "code",
      "metadata": {
        "id": "zZjZBOS-am-L",
        "colab": {
          "base_uri": "https://localhost:8080/",
          "height": 635
        },
        "outputId": "3d2fab2d-6f81-4357-9ba5-c4d55e64ca46"
      },
      "source": [
        "plt.figure (figsize=(12,10))\n",
        "ax = sns.heatmap (corr[(corr<=0.45)&(corr>=0.25)|(corr<=-0.25)&(corr>=-0.45)], annot=True, vmax=1, vmin=-1, cmap='gist_rainbow')\n",
        "ax.set_title('Слабая корреляция', fontsize=25)\n",
        "plt.show"
      ],
      "execution_count": null,
      "outputs": [
        {
          "output_type": "execute_result",
          "data": {
            "text/plain": [
              "<function matplotlib.pyplot.show>"
            ]
          },
          "metadata": {
            "tags": []
          },
          "execution_count": 96
        },
        {
          "output_type": "display_data",
          "data": {
            "image/png": "[encoded data removed]",
            "text/plain": [
              "<Figure size 864x720 with 2 Axes>"
            ]
          },
          "metadata": {
            "tags": [],
            "needs_background": "light"
          }
        }
      ]
    }
  ]
}